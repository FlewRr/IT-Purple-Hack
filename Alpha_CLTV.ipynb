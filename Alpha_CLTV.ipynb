{
  "nbformat": 4,
  "nbformat_minor": 0,
  "metadata": {
    "colab": {
      "provenance": [],
      "gpuType": "T4"
    },
    "kernelspec": {
      "name": "python3",
      "display_name": "Python 3"
    },
    "language_info": {
      "name": "python"
    },
    "accelerator": "GPU"
  },
  "cells": [
    {
      "cell_type": "code",
      "source": [
        "import pandas as pd\n",
        "import numpy as np\n",
        "from matplotlib import pyplot as plt\n",
        "import seaborn as sns"
      ],
      "metadata": {
        "id": "uASjAkYReic9"
      },
      "execution_count": null,
      "outputs": []
    },
    {
      "cell_type": "code",
      "execution_count": null,
      "metadata": {
        "colab": {
          "base_uri": "https://localhost:8080/"
        },
        "id": "Dvh8Id2wcvoQ",
        "outputId": "38c7f1b5-c285-46bc-c026-51fbb361f5b8"
      },
      "outputs": [
        {
          "output_type": "stream",
          "name": "stdout",
          "text": [
            "Drive already mounted at /content/drive; to attempt to forcibly remount, call drive.mount(\"/content/drive\", force_remount=True).\n"
          ]
        }
      ],
      "source": [
        "from google.colab import drive\n",
        "drive.mount('/content/drive')"
      ]
    },
    {
      "cell_type": "code",
      "source": [
        "!cp \"/content/drive/MyDrive/Альфа Банк.zip\" \"/content/alpha.zip\""
      ],
      "metadata": {
        "id": "Y4mikzcqdI4g"
      },
      "execution_count": null,
      "outputs": []
    },
    {
      "cell_type": "code",
      "source": [
        "!unzip alpha.zip"
      ],
      "metadata": {
        "colab": {
          "base_uri": "https://localhost:8080/"
        },
        "id": "nTMwALbvdup7",
        "outputId": "0e369d65-814e-464b-ce37-428fd0d2c1bb"
      },
      "execution_count": null,
      "outputs": [
        {
          "output_type": "stream",
          "name": "stdout",
          "text": [
            "Archive:  alpha.zip\n",
            "replace Альфа Банк/baseline.ipynb? [y]es, [n]o, [A]ll, [N]one, [r]ename: "
          ]
        }
      ]
    },
    {
      "cell_type": "code",
      "source": [
        "!ls"
      ],
      "metadata": {
        "colab": {
          "base_uri": "https://localhost:8080/"
        },
        "id": "GEYhYH0YecnM",
        "outputId": "e73df3dc-9d3e-4e88-b598-ddc243552931"
      },
      "execution_count": null,
      "outputs": [
        {
          "output_type": "stream",
          "name": "stdout",
          "text": [
            " alpha.zip   drive   sample_data  'Альфа Банк'\n"
          ]
        }
      ]
    },
    {
      "cell_type": "code",
      "source": [
        "%cd 'Альфа Банк'"
      ],
      "metadata": {
        "colab": {
          "base_uri": "https://localhost:8080/"
        },
        "id": "B2rJWOaCduzd",
        "outputId": "495f528c-01d0-40d3-970e-d327d40870cc"
      },
      "execution_count": null,
      "outputs": [
        {
          "output_type": "stream",
          "name": "stdout",
          "text": [
            "/content/Альфа Банк\n"
          ]
        }
      ]
    },
    {
      "cell_type": "code",
      "source": [
        "train_df = pd.read_parquet(\"train_data.pqt\")\n",
        "test_df = pd.read_parquet(\"test_data.pqt\")\n",
        "train_df"
      ],
      "metadata": {
        "colab": {
          "base_uri": "https://localhost:8080/",
          "height": 443
        },
        "id": "6yfmv0KLd4uk",
        "outputId": "061d56da-f65b-4de3-e664-f293c443f546"
      },
      "execution_count": null,
      "outputs": [
        {
          "output_type": "execute_result",
          "data": {
            "text/plain": [
              "            id     date  balance_amt_avg  balance_amt_max  balance_amt_min  \\\n",
              "0            0  month_1         0.744845         0.705492         1.287207   \n",
              "1            0  month_2         1.049605         0.831916         2.458609   \n",
              "2            0  month_3         0.692653         0.740253         0.430042   \n",
              "3            1  month_1        -0.081586        -0.091860        -0.114040   \n",
              "4            1  month_2        -0.094962        -0.100504        -0.119302   \n",
              "...        ...      ...              ...              ...              ...   \n",
              "599995  199998  month_2        -0.156775        -0.204960        -0.125987   \n",
              "599996  199998  month_3        -0.156776        -0.204960        -0.125995   \n",
              "599997  199999  month_1        -0.156712        -0.204913        -0.125831   \n",
              "599998  199999  month_2        -0.156712        -0.204913        -0.125831   \n",
              "599999  199999  month_3        -0.156712        -0.204913        -0.125831   \n",
              "\n",
              "        balance_amt_day_avg     channel_code       city    city_type  \\\n",
              "0                  0.748101   channel_code_5    city_23  city_type_0   \n",
              "1                  1.053805   channel_code_5    city_23  city_type_0   \n",
              "2                  0.695747   channel_code_5    city_23  city_type_0   \n",
              "3                 -0.080890   channel_code_2    city_14  city_type_0   \n",
              "4                 -0.094307   channel_code_2    city_14  city_type_0   \n",
              "...                     ...              ...        ...          ...   \n",
              "599995            -0.156311   channel_code_9    city_14  city_type_0   \n",
              "599996            -0.156312   channel_code_9    city_14  city_type_0   \n",
              "599997            -0.156248  channel_code_14  city_1876  city_type_0   \n",
              "599998            -0.156248  channel_code_14  city_1876  city_type_0   \n",
              "599999            -0.156248  channel_code_14  city_1876  city_type_0   \n",
              "\n",
              "            index_city_code  ...  cnt_cred_g_oper_3m  cnt_days_cred_g_oper_3m  \\\n",
              "0        index_city_code_39  ...            0.951166                 0.568681   \n",
              "1        index_city_code_39  ...            0.948812                 0.499716   \n",
              "2        index_city_code_39  ...            0.946458                 0.442244   \n",
              "3                      None  ...            0.945281                 0.407762   \n",
              "4                      None  ...            0.946066                 0.430750   \n",
              "...                     ...  ...                 ...                      ...   \n",
              "599995                 None  ...                 NaN                      NaN   \n",
              "599996                 None  ...            0.944497                 0.384773   \n",
              "599997  index_city_code_195  ...                 NaN                      NaN   \n",
              "599998  index_city_code_195  ...                 NaN                      NaN   \n",
              "599999  index_city_code_195  ...                 NaN                      NaN   \n",
              "\n",
              "       sum_deb_h_oper_3m cnt_deb_h_oper_3m  cnt_days_deb_h_oper_3m  \\\n",
              "0               0.897565          0.553624                0.774354   \n",
              "1               0.785029          0.551904                0.696576   \n",
              "2               0.877050          0.551044                0.663243   \n",
              "3               0.369318          0.567093                0.785465   \n",
              "4               0.067275          0.559928                0.696576   \n",
              "...                  ...               ...                     ...   \n",
              "599995         -0.165588               NaN                     NaN   \n",
              "599996         -0.165588          0.546889                0.407687   \n",
              "599997         -0.165588               NaN                     NaN   \n",
              "599998         -0.165588               NaN                     NaN   \n",
              "599999         -0.165588               NaN                     NaN   \n",
              "\n",
              "        sum_cred_h_oper_3m  cnt_cred_h_oper_3m  cnt_days_cred_h_oper_3m  \\\n",
              "0                 0.936506            0.295984                 0.967947   \n",
              "1                 0.990157            0.298873                 0.945969   \n",
              "2                 0.810065            0.294829                 0.956958   \n",
              "3                -0.184002            0.253523                 0.462452   \n",
              "4                -0.183854            0.255545                 0.495419   \n",
              "...                    ...                 ...                      ...   \n",
              "599995           -0.201123                 NaN                      NaN   \n",
              "599996           -0.201123            0.250924                 0.374540   \n",
              "599997           -0.201123                 NaN                      NaN   \n",
              "599998           -0.201123                 NaN                      NaN   \n",
              "599999           -0.201123                 NaN                      NaN   \n",
              "\n",
              "       start_cluster end_cluster  \n",
              "0             {α, γ}     {other}  \n",
              "1             {α, γ}     {other}  \n",
              "2             {α, γ}     {other}  \n",
              "3            {other}     {other}  \n",
              "4            {other}     {other}  \n",
              "...              ...         ...  \n",
              "599995            {}          {}  \n",
              "599996           {α}          {}  \n",
              "599997            {}          {}  \n",
              "599998            {}          {}  \n",
              "599999           {α}          {}  \n",
              "\n",
              "[600000 rows x 93 columns]"
            ],
            "text/html": [
              "\n",
              "  <div id=\"df-5ccebae0-92f4-4340-bffe-1c223ab620da\" class=\"colab-df-container\">\n",
              "    <div>\n",
              "<style scoped>\n",
              "    .dataframe tbody tr th:only-of-type {\n",
              "        vertical-align: middle;\n",
              "    }\n",
              "\n",
              "    .dataframe tbody tr th {\n",
              "        vertical-align: top;\n",
              "    }\n",
              "\n",
              "    .dataframe thead th {\n",
              "        text-align: right;\n",
              "    }\n",
              "</style>\n",
              "<table border=\"1\" class=\"dataframe\">\n",
              "  <thead>\n",
              "    <tr style=\"text-align: right;\">\n",
              "      <th></th>\n",
              "      <th>id</th>\n",
              "      <th>date</th>\n",
              "      <th>balance_amt_avg</th>\n",
              "      <th>balance_amt_max</th>\n",
              "      <th>balance_amt_min</th>\n",
              "      <th>balance_amt_day_avg</th>\n",
              "      <th>channel_code</th>\n",
              "      <th>city</th>\n",
              "      <th>city_type</th>\n",
              "      <th>index_city_code</th>\n",
              "      <th>...</th>\n",
              "      <th>cnt_cred_g_oper_3m</th>\n",
              "      <th>cnt_days_cred_g_oper_3m</th>\n",
              "      <th>sum_deb_h_oper_3m</th>\n",
              "      <th>cnt_deb_h_oper_3m</th>\n",
              "      <th>cnt_days_deb_h_oper_3m</th>\n",
              "      <th>sum_cred_h_oper_3m</th>\n",
              "      <th>cnt_cred_h_oper_3m</th>\n",
              "      <th>cnt_days_cred_h_oper_3m</th>\n",
              "      <th>start_cluster</th>\n",
              "      <th>end_cluster</th>\n",
              "    </tr>\n",
              "  </thead>\n",
              "  <tbody>\n",
              "    <tr>\n",
              "      <th>0</th>\n",
              "      <td>0</td>\n",
              "      <td>month_1</td>\n",
              "      <td>0.744845</td>\n",
              "      <td>0.705492</td>\n",
              "      <td>1.287207</td>\n",
              "      <td>0.748101</td>\n",
              "      <td>channel_code_5</td>\n",
              "      <td>city_23</td>\n",
              "      <td>city_type_0</td>\n",
              "      <td>index_city_code_39</td>\n",
              "      <td>...</td>\n",
              "      <td>0.951166</td>\n",
              "      <td>0.568681</td>\n",
              "      <td>0.897565</td>\n",
              "      <td>0.553624</td>\n",
              "      <td>0.774354</td>\n",
              "      <td>0.936506</td>\n",
              "      <td>0.295984</td>\n",
              "      <td>0.967947</td>\n",
              "      <td>{α, γ}</td>\n",
              "      <td>{other}</td>\n",
              "    </tr>\n",
              "    <tr>\n",
              "      <th>1</th>\n",
              "      <td>0</td>\n",
              "      <td>month_2</td>\n",
              "      <td>1.049605</td>\n",
              "      <td>0.831916</td>\n",
              "      <td>2.458609</td>\n",
              "      <td>1.053805</td>\n",
              "      <td>channel_code_5</td>\n",
              "      <td>city_23</td>\n",
              "      <td>city_type_0</td>\n",
              "      <td>index_city_code_39</td>\n",
              "      <td>...</td>\n",
              "      <td>0.948812</td>\n",
              "      <td>0.499716</td>\n",
              "      <td>0.785029</td>\n",
              "      <td>0.551904</td>\n",
              "      <td>0.696576</td>\n",
              "      <td>0.990157</td>\n",
              "      <td>0.298873</td>\n",
              "      <td>0.945969</td>\n",
              "      <td>{α, γ}</td>\n",
              "      <td>{other}</td>\n",
              "    </tr>\n",
              "    <tr>\n",
              "      <th>2</th>\n",
              "      <td>0</td>\n",
              "      <td>month_3</td>\n",
              "      <td>0.692653</td>\n",
              "      <td>0.740253</td>\n",
              "      <td>0.430042</td>\n",
              "      <td>0.695747</td>\n",
              "      <td>channel_code_5</td>\n",
              "      <td>city_23</td>\n",
              "      <td>city_type_0</td>\n",
              "      <td>index_city_code_39</td>\n",
              "      <td>...</td>\n",
              "      <td>0.946458</td>\n",
              "      <td>0.442244</td>\n",
              "      <td>0.877050</td>\n",
              "      <td>0.551044</td>\n",
              "      <td>0.663243</td>\n",
              "      <td>0.810065</td>\n",
              "      <td>0.294829</td>\n",
              "      <td>0.956958</td>\n",
              "      <td>{α, γ}</td>\n",
              "      <td>{other}</td>\n",
              "    </tr>\n",
              "    <tr>\n",
              "      <th>3</th>\n",
              "      <td>1</td>\n",
              "      <td>month_1</td>\n",
              "      <td>-0.081586</td>\n",
              "      <td>-0.091860</td>\n",
              "      <td>-0.114040</td>\n",
              "      <td>-0.080890</td>\n",
              "      <td>channel_code_2</td>\n",
              "      <td>city_14</td>\n",
              "      <td>city_type_0</td>\n",
              "      <td>None</td>\n",
              "      <td>...</td>\n",
              "      <td>0.945281</td>\n",
              "      <td>0.407762</td>\n",
              "      <td>0.369318</td>\n",
              "      <td>0.567093</td>\n",
              "      <td>0.785465</td>\n",
              "      <td>-0.184002</td>\n",
              "      <td>0.253523</td>\n",
              "      <td>0.462452</td>\n",
              "      <td>{other}</td>\n",
              "      <td>{other}</td>\n",
              "    </tr>\n",
              "    <tr>\n",
              "      <th>4</th>\n",
              "      <td>1</td>\n",
              "      <td>month_2</td>\n",
              "      <td>-0.094962</td>\n",
              "      <td>-0.100504</td>\n",
              "      <td>-0.119302</td>\n",
              "      <td>-0.094307</td>\n",
              "      <td>channel_code_2</td>\n",
              "      <td>city_14</td>\n",
              "      <td>city_type_0</td>\n",
              "      <td>None</td>\n",
              "      <td>...</td>\n",
              "      <td>0.946066</td>\n",
              "      <td>0.430750</td>\n",
              "      <td>0.067275</td>\n",
              "      <td>0.559928</td>\n",
              "      <td>0.696576</td>\n",
              "      <td>-0.183854</td>\n",
              "      <td>0.255545</td>\n",
              "      <td>0.495419</td>\n",
              "      <td>{other}</td>\n",
              "      <td>{other}</td>\n",
              "    </tr>\n",
              "    <tr>\n",
              "      <th>...</th>\n",
              "      <td>...</td>\n",
              "      <td>...</td>\n",
              "      <td>...</td>\n",
              "      <td>...</td>\n",
              "      <td>...</td>\n",
              "      <td>...</td>\n",
              "      <td>...</td>\n",
              "      <td>...</td>\n",
              "      <td>...</td>\n",
              "      <td>...</td>\n",
              "      <td>...</td>\n",
              "      <td>...</td>\n",
              "      <td>...</td>\n",
              "      <td>...</td>\n",
              "      <td>...</td>\n",
              "      <td>...</td>\n",
              "      <td>...</td>\n",
              "      <td>...</td>\n",
              "      <td>...</td>\n",
              "      <td>...</td>\n",
              "      <td>...</td>\n",
              "    </tr>\n",
              "    <tr>\n",
              "      <th>599995</th>\n",
              "      <td>199998</td>\n",
              "      <td>month_2</td>\n",
              "      <td>-0.156775</td>\n",
              "      <td>-0.204960</td>\n",
              "      <td>-0.125987</td>\n",
              "      <td>-0.156311</td>\n",
              "      <td>channel_code_9</td>\n",
              "      <td>city_14</td>\n",
              "      <td>city_type_0</td>\n",
              "      <td>None</td>\n",
              "      <td>...</td>\n",
              "      <td>NaN</td>\n",
              "      <td>NaN</td>\n",
              "      <td>-0.165588</td>\n",
              "      <td>NaN</td>\n",
              "      <td>NaN</td>\n",
              "      <td>-0.201123</td>\n",
              "      <td>NaN</td>\n",
              "      <td>NaN</td>\n",
              "      <td>{}</td>\n",
              "      <td>{}</td>\n",
              "    </tr>\n",
              "    <tr>\n",
              "      <th>599996</th>\n",
              "      <td>199998</td>\n",
              "      <td>month_3</td>\n",
              "      <td>-0.156776</td>\n",
              "      <td>-0.204960</td>\n",
              "      <td>-0.125995</td>\n",
              "      <td>-0.156312</td>\n",
              "      <td>channel_code_9</td>\n",
              "      <td>city_14</td>\n",
              "      <td>city_type_0</td>\n",
              "      <td>None</td>\n",
              "      <td>...</td>\n",
              "      <td>0.944497</td>\n",
              "      <td>0.384773</td>\n",
              "      <td>-0.165588</td>\n",
              "      <td>0.546889</td>\n",
              "      <td>0.407687</td>\n",
              "      <td>-0.201123</td>\n",
              "      <td>0.250924</td>\n",
              "      <td>0.374540</td>\n",
              "      <td>{α}</td>\n",
              "      <td>{}</td>\n",
              "    </tr>\n",
              "    <tr>\n",
              "      <th>599997</th>\n",
              "      <td>199999</td>\n",
              "      <td>month_1</td>\n",
              "      <td>-0.156712</td>\n",
              "      <td>-0.204913</td>\n",
              "      <td>-0.125831</td>\n",
              "      <td>-0.156248</td>\n",
              "      <td>channel_code_14</td>\n",
              "      <td>city_1876</td>\n",
              "      <td>city_type_0</td>\n",
              "      <td>index_city_code_195</td>\n",
              "      <td>...</td>\n",
              "      <td>NaN</td>\n",
              "      <td>NaN</td>\n",
              "      <td>-0.165588</td>\n",
              "      <td>NaN</td>\n",
              "      <td>NaN</td>\n",
              "      <td>-0.201123</td>\n",
              "      <td>NaN</td>\n",
              "      <td>NaN</td>\n",
              "      <td>{}</td>\n",
              "      <td>{}</td>\n",
              "    </tr>\n",
              "    <tr>\n",
              "      <th>599998</th>\n",
              "      <td>199999</td>\n",
              "      <td>month_2</td>\n",
              "      <td>-0.156712</td>\n",
              "      <td>-0.204913</td>\n",
              "      <td>-0.125831</td>\n",
              "      <td>-0.156248</td>\n",
              "      <td>channel_code_14</td>\n",
              "      <td>city_1876</td>\n",
              "      <td>city_type_0</td>\n",
              "      <td>index_city_code_195</td>\n",
              "      <td>...</td>\n",
              "      <td>NaN</td>\n",
              "      <td>NaN</td>\n",
              "      <td>-0.165588</td>\n",
              "      <td>NaN</td>\n",
              "      <td>NaN</td>\n",
              "      <td>-0.201123</td>\n",
              "      <td>NaN</td>\n",
              "      <td>NaN</td>\n",
              "      <td>{}</td>\n",
              "      <td>{}</td>\n",
              "    </tr>\n",
              "    <tr>\n",
              "      <th>599999</th>\n",
              "      <td>199999</td>\n",
              "      <td>month_3</td>\n",
              "      <td>-0.156712</td>\n",
              "      <td>-0.204913</td>\n",
              "      <td>-0.125831</td>\n",
              "      <td>-0.156248</td>\n",
              "      <td>channel_code_14</td>\n",
              "      <td>city_1876</td>\n",
              "      <td>city_type_0</td>\n",
              "      <td>index_city_code_195</td>\n",
              "      <td>...</td>\n",
              "      <td>NaN</td>\n",
              "      <td>NaN</td>\n",
              "      <td>-0.165588</td>\n",
              "      <td>NaN</td>\n",
              "      <td>NaN</td>\n",
              "      <td>-0.201123</td>\n",
              "      <td>NaN</td>\n",
              "      <td>NaN</td>\n",
              "      <td>{α}</td>\n",
              "      <td>{}</td>\n",
              "    </tr>\n",
              "  </tbody>\n",
              "</table>\n",
              "<p>600000 rows × 93 columns</p>\n",
              "</div>\n",
              "    <div class=\"colab-df-buttons\">\n",
              "\n",
              "  <div class=\"colab-df-container\">\n",
              "    <button class=\"colab-df-convert\" onclick=\"convertToInteractive('df-5ccebae0-92f4-4340-bffe-1c223ab620da')\"\n",
              "            title=\"Convert this dataframe to an interactive table.\"\n",
              "            style=\"display:none;\">\n",
              "\n",
              "  <svg xmlns=\"http://www.w3.org/2000/svg\" height=\"24px\" viewBox=\"0 -960 960 960\">\n",
              "    <path d=\"M120-120v-720h720v720H120Zm60-500h600v-160H180v160Zm220 220h160v-160H400v160Zm0 220h160v-160H400v160ZM180-400h160v-160H180v160Zm440 0h160v-160H620v160ZM180-180h160v-160H180v160Zm440 0h160v-160H620v160Z\"/>\n",
              "  </svg>\n",
              "    </button>\n",
              "\n",
              "  <style>\n",
              "    .colab-df-container {\n",
              "      display:flex;\n",
              "      gap: 12px;\n",
              "    }\n",
              "\n",
              "    .colab-df-convert {\n",
              "      background-color: #E8F0FE;\n",
              "      border: none;\n",
              "      border-radius: 50%;\n",
              "      cursor: pointer;\n",
              "      display: none;\n",
              "      fill: #1967D2;\n",
              "      height: 32px;\n",
              "      padding: 0 0 0 0;\n",
              "      width: 32px;\n",
              "    }\n",
              "\n",
              "    .colab-df-convert:hover {\n",
              "      background-color: #E2EBFA;\n",
              "      box-shadow: 0px 1px 2px rgba(60, 64, 67, 0.3), 0px 1px 3px 1px rgba(60, 64, 67, 0.15);\n",
              "      fill: #174EA6;\n",
              "    }\n",
              "\n",
              "    .colab-df-buttons div {\n",
              "      margin-bottom: 4px;\n",
              "    }\n",
              "\n",
              "    [theme=dark] .colab-df-convert {\n",
              "      background-color: #3B4455;\n",
              "      fill: #D2E3FC;\n",
              "    }\n",
              "\n",
              "    [theme=dark] .colab-df-convert:hover {\n",
              "      background-color: #434B5C;\n",
              "      box-shadow: 0px 1px 3px 1px rgba(0, 0, 0, 0.15);\n",
              "      filter: drop-shadow(0px 1px 2px rgba(0, 0, 0, 0.3));\n",
              "      fill: #FFFFFF;\n",
              "    }\n",
              "  </style>\n",
              "\n",
              "    <script>\n",
              "      const buttonEl =\n",
              "        document.querySelector('#df-5ccebae0-92f4-4340-bffe-1c223ab620da button.colab-df-convert');\n",
              "      buttonEl.style.display =\n",
              "        google.colab.kernel.accessAllowed ? 'block' : 'none';\n",
              "\n",
              "      async function convertToInteractive(key) {\n",
              "        const element = document.querySelector('#df-5ccebae0-92f4-4340-bffe-1c223ab620da');\n",
              "        const dataTable =\n",
              "          await google.colab.kernel.invokeFunction('convertToInteractive',\n",
              "                                                    [key], {});\n",
              "        if (!dataTable) return;\n",
              "\n",
              "        const docLinkHtml = 'Like what you see? Visit the ' +\n",
              "          '<a target=\"_blank\" href=https://colab.research.google.com/notebooks/data_table.ipynb>data table notebook</a>'\n",
              "          + ' to learn more about interactive tables.';\n",
              "        element.innerHTML = '';\n",
              "        dataTable['output_type'] = 'display_data';\n",
              "        await google.colab.output.renderOutput(dataTable, element);\n",
              "        const docLink = document.createElement('div');\n",
              "        docLink.innerHTML = docLinkHtml;\n",
              "        element.appendChild(docLink);\n",
              "      }\n",
              "    </script>\n",
              "  </div>\n",
              "\n",
              "\n",
              "<div id=\"df-e0938369-24f3-43b0-9943-4dfa08acbd20\">\n",
              "  <button class=\"colab-df-quickchart\" onclick=\"quickchart('df-e0938369-24f3-43b0-9943-4dfa08acbd20')\"\n",
              "            title=\"Suggest charts\"\n",
              "            style=\"display:none;\">\n",
              "\n",
              "<svg xmlns=\"http://www.w3.org/2000/svg\" height=\"24px\"viewBox=\"0 0 24 24\"\n",
              "     width=\"24px\">\n",
              "    <g>\n",
              "        <path d=\"M19 3H5c-1.1 0-2 .9-2 2v14c0 1.1.9 2 2 2h14c1.1 0 2-.9 2-2V5c0-1.1-.9-2-2-2zM9 17H7v-7h2v7zm4 0h-2V7h2v10zm4 0h-2v-4h2v4z\"/>\n",
              "    </g>\n",
              "</svg>\n",
              "  </button>\n",
              "\n",
              "<style>\n",
              "  .colab-df-quickchart {\n",
              "      --bg-color: #E8F0FE;\n",
              "      --fill-color: #1967D2;\n",
              "      --hover-bg-color: #E2EBFA;\n",
              "      --hover-fill-color: #174EA6;\n",
              "      --disabled-fill-color: #AAA;\n",
              "      --disabled-bg-color: #DDD;\n",
              "  }\n",
              "\n",
              "  [theme=dark] .colab-df-quickchart {\n",
              "      --bg-color: #3B4455;\n",
              "      --fill-color: #D2E3FC;\n",
              "      --hover-bg-color: #434B5C;\n",
              "      --hover-fill-color: #FFFFFF;\n",
              "      --disabled-bg-color: #3B4455;\n",
              "      --disabled-fill-color: #666;\n",
              "  }\n",
              "\n",
              "  .colab-df-quickchart {\n",
              "    background-color: var(--bg-color);\n",
              "    border: none;\n",
              "    border-radius: 50%;\n",
              "    cursor: pointer;\n",
              "    display: none;\n",
              "    fill: var(--fill-color);\n",
              "    height: 32px;\n",
              "    padding: 0;\n",
              "    width: 32px;\n",
              "  }\n",
              "\n",
              "  .colab-df-quickchart:hover {\n",
              "    background-color: var(--hover-bg-color);\n",
              "    box-shadow: 0 1px 2px rgba(60, 64, 67, 0.3), 0 1px 3px 1px rgba(60, 64, 67, 0.15);\n",
              "    fill: var(--button-hover-fill-color);\n",
              "  }\n",
              "\n",
              "  .colab-df-quickchart-complete:disabled,\n",
              "  .colab-df-quickchart-complete:disabled:hover {\n",
              "    background-color: var(--disabled-bg-color);\n",
              "    fill: var(--disabled-fill-color);\n",
              "    box-shadow: none;\n",
              "  }\n",
              "\n",
              "  .colab-df-spinner {\n",
              "    border: 2px solid var(--fill-color);\n",
              "    border-color: transparent;\n",
              "    border-bottom-color: var(--fill-color);\n",
              "    animation:\n",
              "      spin 1s steps(1) infinite;\n",
              "  }\n",
              "\n",
              "  @keyframes spin {\n",
              "    0% {\n",
              "      border-color: transparent;\n",
              "      border-bottom-color: var(--fill-color);\n",
              "      border-left-color: var(--fill-color);\n",
              "    }\n",
              "    20% {\n",
              "      border-color: transparent;\n",
              "      border-left-color: var(--fill-color);\n",
              "      border-top-color: var(--fill-color);\n",
              "    }\n",
              "    30% {\n",
              "      border-color: transparent;\n",
              "      border-left-color: var(--fill-color);\n",
              "      border-top-color: var(--fill-color);\n",
              "      border-right-color: var(--fill-color);\n",
              "    }\n",
              "    40% {\n",
              "      border-color: transparent;\n",
              "      border-right-color: var(--fill-color);\n",
              "      border-top-color: var(--fill-color);\n",
              "    }\n",
              "    60% {\n",
              "      border-color: transparent;\n",
              "      border-right-color: var(--fill-color);\n",
              "    }\n",
              "    80% {\n",
              "      border-color: transparent;\n",
              "      border-right-color: var(--fill-color);\n",
              "      border-bottom-color: var(--fill-color);\n",
              "    }\n",
              "    90% {\n",
              "      border-color: transparent;\n",
              "      border-bottom-color: var(--fill-color);\n",
              "    }\n",
              "  }\n",
              "</style>\n",
              "\n",
              "  <script>\n",
              "    async function quickchart(key) {\n",
              "      const quickchartButtonEl =\n",
              "        document.querySelector('#' + key + ' button');\n",
              "      quickchartButtonEl.disabled = true;  // To prevent multiple clicks.\n",
              "      quickchartButtonEl.classList.add('colab-df-spinner');\n",
              "      try {\n",
              "        const charts = await google.colab.kernel.invokeFunction(\n",
              "            'suggestCharts', [key], {});\n",
              "      } catch (error) {\n",
              "        console.error('Error during call to suggestCharts:', error);\n",
              "      }\n",
              "      quickchartButtonEl.classList.remove('colab-df-spinner');\n",
              "      quickchartButtonEl.classList.add('colab-df-quickchart-complete');\n",
              "    }\n",
              "    (() => {\n",
              "      let quickchartButtonEl =\n",
              "        document.querySelector('#df-e0938369-24f3-43b0-9943-4dfa08acbd20 button');\n",
              "      quickchartButtonEl.style.display =\n",
              "        google.colab.kernel.accessAllowed ? 'block' : 'none';\n",
              "    })();\n",
              "  </script>\n",
              "</div>\n",
              "    </div>\n",
              "  </div>\n"
            ],
            "application/vnd.google.colaboratory.intrinsic+json": {
              "type": "dataframe",
              "variable_name": "train_df"
            }
          },
          "metadata": {},
          "execution_count": 16
        }
      ]
    },
    {
      "cell_type": "code",
      "source": [
        "num_cols = train_df.select_dtypes(include='number').columns\n",
        "cat_cols = train_df.drop(num_cols, axis=1).columns\n",
        "clusters = pd.read_excel(\"cluster_weights.xlsx\")"
      ],
      "metadata": {
        "id": "BWeirr_FgBBt"
      },
      "execution_count": null,
      "outputs": []
    },
    {
      "cell_type": "markdown",
      "source": [
        "## Обучение\n"
      ],
      "metadata": {
        "id": "nxvrsV1Polt8"
      }
    },
    {
      "cell_type": "code",
      "source": [
        "from sklearn.metrics import roc_auc_score\n",
        "\n",
        "def weighted_roc_auc(y_true, y_pred, labels, weights_dict):\n",
        "    unnorm_weights = np.array([weights_dict[label] for label in labels])\n",
        "    weights = unnorm_weights / unnorm_weights.sum()\n",
        "    classes_roc_auc = roc_auc_score(y_true, y_pred, labels=labels,\n",
        "                                    multi_class=\"ovr\", average=None)\n",
        "    return sum(weights * classes_roc_auc)"
      ],
      "metadata": {
        "id": "fmw_U8r06uGF"
      },
      "execution_count": null,
      "outputs": []
    },
    {
      "cell_type": "code",
      "source": [
        "# from sklearn.model_selection import train_test_split\n",
        "# import datetime\n",
        "\n",
        "# cities = []\n",
        "# probs = []\n",
        "# for x, y in zip(train_df['index_city_code'].value_counts(), train_df['index_city_code'].value_counts().index):\n",
        "#   cities.append(y)\n",
        "#   probs.append(x)\n",
        "\n",
        "# probs = np.array(probs)/np.sum(probs)\n",
        "\n",
        "# import random\n",
        "\n",
        "# random.choices(\n",
        "#      population=cities,\n",
        "#      weights=probs,\n",
        "#      k=1\n",
        "#  )\n",
        "\n",
        "# X = train_df.drop([\"id\", \"date\", \"end_cluster\"\n",
        "# #, \"index_city_code\"\n",
        "#                    ], axis=1)\n",
        "# y = train_df[\"end_cluster\"]\n",
        "\n",
        "# num_cols = X.select_dtypes(include='number').columns\n",
        "# cat_cols = X.drop(num_cols, axis=1).columns\n",
        "\n",
        "# for column in num_cols:\n",
        "#   X[column] = X[column].fillna(X[column].median())\n",
        "\n",
        "# for column in cat_cols:\n",
        "#   if column == 'index_city_code':\n",
        "#     X[column] = X[column].apply(lambda x: random.choices(\n",
        "#      population=cities,\n",
        "#      weights=probs,\n",
        "#      k=1\n",
        "#  )[0] if not x else x)\n",
        "#   else:\n",
        "#     X[column] = X[column].fillna(X[column].mode()[0])\n",
        "\n",
        "\n",
        "# X[\"ogrn_month_num\"] = X[\"ogrn_month\"].apply(lambda x: (int(x.split('_')[2]) + 1) if not x is None else x)\n",
        "# X[\"ogrn_year_num\"] = X[\"ogrn_year\"].apply(lambda x: int(x.split('_')[2]) + 2000 if not (x is None) else x)\n",
        "# X['ts'] = [datetime.datetime(int(i), int(j), 1).timestamp() if not(pd.isna(i) or pd.isna(j)) else datetime.datetime(11, 5, 1).timestamp() for i, j in zip(np.array(X[\"ogrn_year_num\"]), np.array(X[\"ogrn_month_num\"]))]\n",
        "\n",
        "# x_train, x_val, y_train, y_val = train_test_split(X, y,\n",
        "#                                                   test_size=0.2,\n",
        "#                                                   stratify=y,\n",
        "#                                                   random_state=42)"
      ],
      "metadata": {
        "id": "E4s6nAzP98_m"
      },
      "execution_count": null,
      "outputs": []
    },
    {
      "cell_type": "code",
      "source": [
        "!pip install catboost optuna"
      ],
      "metadata": {
        "id": "NiVt-ttN-Vjg",
        "colab": {
          "base_uri": "https://localhost:8080/"
        },
        "outputId": "20913cb9-62ea-4260-de85-34af0c593c02"
      },
      "execution_count": null,
      "outputs": [
        {
          "output_type": "stream",
          "name": "stdout",
          "text": [
            "Requirement already satisfied: catboost in /usr/local/lib/python3.10/dist-packages (1.2.3)\n",
            "Requirement already satisfied: optuna in /usr/local/lib/python3.10/dist-packages (3.5.0)\n",
            "Requirement already satisfied: graphviz in /usr/local/lib/python3.10/dist-packages (from catboost) (0.20.1)\n",
            "Requirement already satisfied: matplotlib in /usr/local/lib/python3.10/dist-packages (from catboost) (3.7.1)\n",
            "Requirement already satisfied: numpy>=1.16.0 in /usr/local/lib/python3.10/dist-packages (from catboost) (1.25.2)\n",
            "Requirement already satisfied: pandas>=0.24 in /usr/local/lib/python3.10/dist-packages (from catboost) (1.5.3)\n",
            "Requirement already satisfied: scipy in /usr/local/lib/python3.10/dist-packages (from catboost) (1.11.4)\n",
            "Requirement already satisfied: plotly in /usr/local/lib/python3.10/dist-packages (from catboost) (5.15.0)\n",
            "Requirement already satisfied: six in /usr/local/lib/python3.10/dist-packages (from catboost) (1.16.0)\n",
            "Requirement already satisfied: alembic>=1.5.0 in /usr/local/lib/python3.10/dist-packages (from optuna) (1.13.1)\n",
            "Requirement already satisfied: colorlog in /usr/local/lib/python3.10/dist-packages (from optuna) (6.8.2)\n",
            "Requirement already satisfied: packaging>=20.0 in /usr/local/lib/python3.10/dist-packages (from optuna) (24.0)\n",
            "Requirement already satisfied: sqlalchemy>=1.3.0 in /usr/local/lib/python3.10/dist-packages (from optuna) (2.0.28)\n",
            "Requirement already satisfied: tqdm in /usr/local/lib/python3.10/dist-packages (from optuna) (4.66.2)\n",
            "Requirement already satisfied: PyYAML in /usr/local/lib/python3.10/dist-packages (from optuna) (6.0.1)\n",
            "Requirement already satisfied: Mako in /usr/local/lib/python3.10/dist-packages (from alembic>=1.5.0->optuna) (1.3.2)\n",
            "Requirement already satisfied: typing-extensions>=4 in /usr/local/lib/python3.10/dist-packages (from alembic>=1.5.0->optuna) (4.10.0)\n",
            "Requirement already satisfied: python-dateutil>=2.8.1 in /usr/local/lib/python3.10/dist-packages (from pandas>=0.24->catboost) (2.8.2)\n",
            "Requirement already satisfied: pytz>=2020.1 in /usr/local/lib/python3.10/dist-packages (from pandas>=0.24->catboost) (2023.4)\n",
            "Requirement already satisfied: greenlet!=0.4.17 in /usr/local/lib/python3.10/dist-packages (from sqlalchemy>=1.3.0->optuna) (3.0.3)\n",
            "Requirement already satisfied: contourpy>=1.0.1 in /usr/local/lib/python3.10/dist-packages (from matplotlib->catboost) (1.2.0)\n",
            "Requirement already satisfied: cycler>=0.10 in /usr/local/lib/python3.10/dist-packages (from matplotlib->catboost) (0.12.1)\n",
            "Requirement already satisfied: fonttools>=4.22.0 in /usr/local/lib/python3.10/dist-packages (from matplotlib->catboost) (4.49.0)\n",
            "Requirement already satisfied: kiwisolver>=1.0.1 in /usr/local/lib/python3.10/dist-packages (from matplotlib->catboost) (1.4.5)\n",
            "Requirement already satisfied: pillow>=6.2.0 in /usr/local/lib/python3.10/dist-packages (from matplotlib->catboost) (9.4.0)\n",
            "Requirement already satisfied: pyparsing>=2.3.1 in /usr/local/lib/python3.10/dist-packages (from matplotlib->catboost) (3.1.2)\n",
            "Requirement already satisfied: tenacity>=6.2.0 in /usr/local/lib/python3.10/dist-packages (from plotly->catboost) (8.2.3)\n",
            "Requirement already satisfied: MarkupSafe>=0.9.2 in /usr/local/lib/python3.10/dist-packages (from Mako->alembic>=1.5.0->optuna) (2.1.5)\n"
          ]
        }
      ]
    },
    {
      "cell_type": "code",
      "source": [
        "cluster_weights = pd.read_excel(\"cluster_weights.xlsx\")\n",
        "weights_dict = cluster_weights[\"unnorm_weight\"].to_dict()"
      ],
      "metadata": {
        "id": "rpboWECj8GTk"
      },
      "execution_count": null,
      "outputs": []
    },
    {
      "cell_type": "code",
      "source": [
        "# import numpy as np\n",
        "# import optuna\n",
        "# from optuna.integration import CatBoostPruningCallback\n",
        "# import catboost as cb\n",
        "# from sklearn.datasets import load_breast_cancer\n",
        "# from sklearn.metrics import accuracy_score\n",
        "# from sklearn.model_selection import train_test_split\n",
        "\n",
        "\n",
        "# def objective(trial: optuna.Trial) -> float:\n",
        "#     train_x, valid_x, train_y, valid_y = train_test_split(x_val, y_val, test_size=0.25, stratify=y_val)\n",
        "\n",
        "#     # le = LabelEncoder()\n",
        "#     # train_y = le.fit_transform(train_y)\n",
        "#     # valid_y = le.transform(valid_y)\n",
        "\n",
        "#     param = {\n",
        "#         'learning_rate':trial.suggest_uniform(\"learning_rate\", 0.001, 0.3),\n",
        "#         #\"colsample_bylevel\": trial.suggest_float(\"colsample_bylevel\", 0.01, 0.1, log=True),\n",
        "#         \"depth\": trial.suggest_int(\"depth\", 1, 12),\n",
        "#         \"l2_leaf_reg\": trial.suggest_loguniform(\"l2_leaf_reg\", 1e-8, 100),\n",
        "#         \"boosting_type\": \"Plain\",\n",
        "#         \"bootstrap_type\": trial.suggest_categorical(\n",
        "#             \"bootstrap_type\", [\"Bayesian\", \"Bernoulli\"]\n",
        "#         ),\n",
        "#         \"eval_metric\": \"TotalF1\",\n",
        "#         \"loss_function\": \"MultiClass\",\n",
        "#         \"task_type\": \"GPU\",\n",
        "#         \"devices\": \"0:1\"\n",
        "#     }\n",
        "\n",
        "#     if param[\"bootstrap_type\"] == \"Bayesian\":\n",
        "#         param[\"bagging_temperature\"] = trial.suggest_float(\"bagging_temperature\", 0, 10)\n",
        "#     elif param[\"bootstrap_type\"] == \"Bernoulli\":\n",
        "#         param[\"subsample\"] = trial.suggest_float(\"subsample\", 0.1, 1, log=True)\n",
        "\n",
        "#     gbm = cb.CatBoostClassifier(**param, )\n",
        "\n",
        "#     # pruning_callback = CatBoostPruningCallback(trial, \"Accuracy\")\n",
        "#     gbm.fit(\n",
        "#         train_x,\n",
        "#         train_y,\n",
        "#         eval_set=[(valid_x, valid_y)],\n",
        "#         cat_features=list(cat_cols),\n",
        "#         verbose=0,\n",
        "#         early_stopping_rounds=100,\n",
        "#         # callbacks=[pruning_callback],\n",
        "#     )\n",
        "\n",
        "#     # pruning_callback.check_pruned()\n",
        "\n",
        "#     preds = gbm.predict(valid_x)\n",
        "#     accuracy = accuracy_score(valid_y, preds)\n",
        "#     return accuracy\n",
        "\n",
        "\n",
        "# study = optuna.create_study(\n",
        "#     # pruner=optuna.pruners.MedianPruner(n_warmup_steps=5),\n",
        "#     direction=\"maximize\"\n",
        "# )\n",
        "# study.optimize(objective, n_trials=20, timeout=600)\n",
        "\n",
        "# print(\"Number of finished trials: {}\".format(len(study.trials)))\n",
        "\n",
        "# print(\"Best trial:\")\n",
        "# trial = study.best_trial\n",
        "\n",
        "# print(\"  Value: {}\".format(trial.value))\n",
        "\n",
        "# print(\"  Params: \")\n",
        "# for key, value in trial.params.items():\n",
        "#     print(\"    {}: {}\".format(key, value))"
      ],
      "metadata": {
        "id": "nIHIyBvPA3Jv"
      },
      "execution_count": null,
      "outputs": []
    },
    {
      "cell_type": "code",
      "source": [
        "# from catboost import CatBoostClassifier\n",
        "\n",
        "# model = CatBoostClassifier(**{'iterations': 250, 'learning_rate': 0.2418141586121033, 'depth': 12, 'l2_leaf_reg': 0.014620864278662526, 'boosting_type': 'Plain', 'bootstrap_type': 'Bernoulli', 'subsample': 0.17991574290710002},\n",
        "#         task_type=\"GPU\",\n",
        "#         devices='0:1')\n",
        "\n",
        "# model.fit(x_train, y_train,\n",
        "#         cat_features=list(cat_cols),\n",
        "#         eval_set=(x_val, y_val)\n",
        "#         )"
      ],
      "metadata": {
        "id": "XKR3zyAv-YHk"
      },
      "execution_count": null,
      "outputs": []
    },
    {
      "cell_type": "code",
      "source": [
        "# y_pred_proba = model.predict_proba(x_val)"
      ],
      "metadata": {
        "id": "7oiaZNFbLXRm"
      },
      "execution_count": null,
      "outputs": []
    },
    {
      "cell_type": "code",
      "source": [
        "# cluster_weights = pd.read_excel(\"cluster_weights.xlsx\").set_index(\"cluster\")\n",
        "# weights_dict = cluster_weights[\"unnorm_weight\"].to_dict()"
      ],
      "metadata": {
        "id": "XTexunyaLinO"
      },
      "execution_count": null,
      "outputs": []
    },
    {
      "cell_type": "code",
      "source": [
        "# weighted_roc_auc(y_val, y_pred_proba, model.classes_, weights_dict)"
      ],
      "metadata": {
        "colab": {
          "base_uri": "https://localhost:8080/"
        },
        "id": "UVM-hkQtLZtg",
        "outputId": "ffa8dbba-3a83-41d6-c9e1-4f4c578b3fab"
      },
      "execution_count": null,
      "outputs": [
        {
          "output_type": "execute_result",
          "data": {
            "text/plain": [
              "0.9468273742079701"
            ]
          },
          "metadata": {},
          "execution_count": 18
        }
      ]
    },
    {
      "cell_type": "code",
      "source": [
        "# importances = model.get_feature_importance(type='PredictionValuesChange')\n",
        "# feature_importances = pd.Series(importances, index=X.columns).sort_values()"
      ],
      "metadata": {
        "id": "zDX08md_gt4y"
      },
      "execution_count": null,
      "outputs": []
    },
    {
      "cell_type": "code",
      "source": [
        "# plt.figure(figsize=(20, 20))\n",
        "\n",
        "# plt.barh(feature_importances.index, feature_importances.values)\n",
        "# plt.title('CatBoost Feature Importance')\n",
        "# plt.xlabel('Importance')\n",
        "# plt.ylabel('Features')\n",
        "\n",
        "# plt.show()"
      ],
      "metadata": {
        "id": "fwMd1XWQ39wR"
      },
      "execution_count": null,
      "outputs": []
    },
    {
      "cell_type": "code",
      "source": [
        "# features_dict = {x:y for x, y in zip(feature_importances.index, feature_importances.values)}"
      ],
      "metadata": {
        "id": "8O_L1gmshy-s"
      },
      "execution_count": null,
      "outputs": []
    },
    {
      "cell_type": "code",
      "source": [
        "# drop_columns = [x[0] for x in list(features_dict.items()) if x[1] < 0.5]"
      ],
      "metadata": {
        "id": "2yGYU1r9h5fA"
      },
      "execution_count": null,
      "outputs": []
    },
    {
      "cell_type": "code",
      "source": [
        "# len(drop_columns)"
      ],
      "metadata": {
        "colab": {
          "base_uri": "https://localhost:8080/"
        },
        "id": "0enN2it74F0L",
        "outputId": "121f04af-b78c-4947-b9c8-be5dd977b423"
      },
      "execution_count": null,
      "outputs": [
        {
          "output_type": "execute_result",
          "data": {
            "text/plain": [
              "63"
            ]
          },
          "metadata": {},
          "execution_count": 23
        }
      ]
    },
    {
      "cell_type": "code",
      "source": [
        "# print(drop_columns)"
      ],
      "metadata": {
        "id": "6Od6n31VOY4R",
        "colab": {
          "base_uri": "https://localhost:8080/"
        },
        "outputId": "b3e774f4-bfca-44e5-cb06-6638d9f5fdd0"
      },
      "execution_count": null,
      "outputs": [
        {
          "output_type": "stream",
          "name": "stdout",
          "text": [
            "['cnt_days_cred_h_oper_1m', 'cnt_days_cred_g_oper_1m', 'cnt_b_oper_1m', 'cnt_days_cred_f_oper_1m', 'cnt_cred_f_oper_1m', 'sum_cred_f_oper_1m', 'cnt_cred_d_oper_1m', 'cnt_a_oper_1m', 'cnt_cred_d_oper_3m', 'sum_cred_d_oper_1m', 'cnt_days_cred_g_oper_3m', 'cnt_days_cred_f_oper_3m', 'cnt_cred_g_oper_3m', 'cnt_cred_g_oper_1m', 'cnt_deb_d_oper_1m', 'sum_c_oper_1m', 'cnt_cred_f_oper_3m', 'cnt_days_deb_f_oper_1m', 'sum_cred_d_oper_3m', 'sum_cred_f_oper_3m', 'sum_b_oper_3m', 'sum_b_oper_1m', 'cnt_b_oper_3m', 'cnt_c_oper_1m', 'cnt_deb_g_oper_3m', 'cnt_deb_g_oper_1m', 'sum_cred_g_oper_1m', 'cnt_cred_h_oper_3m', 'cnt_deb_h_oper_1m', 'cnt_a_oper_3m', 'cnt_cred_e_oper_1m', 'sum_a_oper_1m', 'cnt_days_cred_e_oper_1m', 'cnt_days_deb_g_oper_1m', 'sum_cred_h_oper_1m', 'cnt_deb_f_oper_1m', 'sum_deb_f_oper_1m', 'sum_deb_h_oper_1m', 'cnt_days_deb_h_oper_1m', 'sum_deb_d_oper_1m', 'sum_deb_d_oper_3m', 'sum_a_oper_3m', 'cnt_days_deb_f_oper_3m', 'sum_deb_h_oper_3m', 'sum_c_oper_3m', 'cnt_deb_h_oper_3m', 'cnt_days_deb_h_oper_3m', 'cnt_cred_h_oper_1m', 'city_type', 'sum_deb_g_oper_1m', 'cnt_deb_d_oper_3m', 'sum_cred_g_oper_3m', 'cnt_c_oper_3m', 'cnt_deb_e_oper_1m', 'cnt_days_cred_h_oper_3m', 'cnt_days_cred_e_oper_3m', 'cnt_days_deb_g_oper_3m', 'cnt_deb_f_oper_3m', 'cnt_days_deb_e_oper_1m', 'sum_deb_f_oper_3m', 'sum_cred_h_oper_3m', 'ogrn_year_num', 'sum_deb_g_oper_3m']\n"
          ]
        }
      ]
    },
    {
      "cell_type": "code",
      "source": [
        "drop_columns = ['cnt_days_cred_h_oper_1m', 'cnt_days_cred_g_oper_1m', 'cnt_b_oper_1m', 'cnt_days_cred_f_oper_1m', 'cnt_cred_f_oper_1m', 'sum_cred_f_oper_1m', 'cnt_cred_d_oper_1m', 'cnt_a_oper_1m', 'cnt_cred_d_oper_3m', 'sum_cred_d_oper_1m', 'cnt_days_cred_g_oper_3m', 'cnt_days_cred_f_oper_3m', 'cnt_cred_g_oper_3m', 'cnt_cred_g_oper_1m', 'cnt_deb_d_oper_1m', 'sum_c_oper_1m', 'cnt_cred_f_oper_3m', 'cnt_days_deb_f_oper_1m', 'sum_cred_d_oper_3m', 'sum_cred_f_oper_3m', 'sum_b_oper_3m', 'sum_b_oper_1m', 'cnt_b_oper_3m', 'cnt_c_oper_1m', 'cnt_deb_g_oper_3m', 'cnt_deb_g_oper_1m', 'sum_cred_g_oper_1m', 'cnt_cred_h_oper_3m', 'cnt_deb_h_oper_1m', 'cnt_a_oper_3m', 'cnt_cred_e_oper_1m', 'sum_a_oper_1m', 'cnt_days_cred_e_oper_1m', 'cnt_days_deb_g_oper_1m', 'sum_cred_h_oper_1m', 'cnt_deb_f_oper_1m', 'sum_deb_f_oper_1m', 'sum_deb_h_oper_1m', 'cnt_days_deb_h_oper_1m', 'sum_deb_d_oper_1m', 'sum_deb_d_oper_3m', 'sum_a_oper_3m', 'cnt_days_deb_f_oper_3m', 'sum_deb_h_oper_3m', 'sum_c_oper_3m', 'cnt_deb_h_oper_3m', 'cnt_days_deb_h_oper_3m', 'cnt_cred_h_oper_1m', 'city_type', 'sum_deb_g_oper_1m', 'cnt_deb_d_oper_3m', 'sum_cred_g_oper_3m', 'cnt_c_oper_3m', 'cnt_deb_e_oper_1m', 'cnt_days_cred_h_oper_3m', 'cnt_days_cred_e_oper_3m', 'cnt_days_deb_g_oper_3m', 'cnt_deb_f_oper_3m', 'cnt_days_deb_e_oper_1m', 'sum_deb_f_oper_3m', 'sum_cred_h_oper_3m', 'ogrn_year_num', 'sum_deb_g_oper_3m']"
      ],
      "metadata": {
        "id": "U18b7Ht2sJb4"
      },
      "execution_count": null,
      "outputs": []
    },
    {
      "cell_type": "code",
      "source": [
        "# cool_train = x_train.drop(columns=drop_columns)\n",
        "# cool_val = x_val.drop(columns=drop_columns)"
      ],
      "metadata": {
        "id": "CqFXQReM5DJt"
      },
      "execution_count": null,
      "outputs": []
    },
    {
      "cell_type": "code",
      "source": [
        "# num_cols = cool_train.select_dtypes(include='number').columns\n",
        "# cat_cols = cool_train.drop(num_cols, axis=1).columns\n",
        "# clusters = pd.read_excel(\"cluster_weights.xlsx\")"
      ],
      "metadata": {
        "id": "Hqz3KMSF5fUO"
      },
      "execution_count": null,
      "outputs": []
    },
    {
      "cell_type": "code",
      "source": [
        "# from catboost import CatBoostClassifier\n",
        "\n",
        "# model = CatBoostClassifier(**{'iterations': 1,\n",
        "#                               'learning_rate': 0.2418141586121033,\n",
        "#                               'depth': 12,\n",
        "#                               'l2_leaf_reg': 0.014620864278662526,\n",
        "#                               'boosting_type': 'Plain',\n",
        "#                               'bootstrap_type': 'Bernoulli',\n",
        "#                               'subsample': 0.17991574290710002},\n",
        "#                                task_type=\"GPU\",\n",
        "#                                devices='0:1')\n",
        "\n",
        "# model.fit(cool_train, y_train,\n",
        "#         cat_features=list(cat_cols),\n",
        "#         eval_set=(cool_val, y_val)\n",
        "#         )"
      ],
      "metadata": {
        "id": "AeQWWaCC5LbT"
      },
      "execution_count": null,
      "outputs": []
    },
    {
      "cell_type": "code",
      "source": [
        "# y_pred_proba = model.predict_proba(cool_val)\n",
        "# weighted_roc_auc(y_val, y_pred_proba, model.classes_, weights_dict)"
      ],
      "metadata": {
        "colab": {
          "base_uri": "https://localhost:8080/"
        },
        "id": "OvhxKhNs6Dwz",
        "outputId": "3331a932-d1a9-4bb3-cd93-0be582a62a12"
      },
      "execution_count": null,
      "outputs": [
        {
          "output_type": "execute_result",
          "data": {
            "text/plain": [
              "0.9477837239475744"
            ]
          },
          "metadata": {},
          "execution_count": 178
        }
      ]
    },
    {
      "cell_type": "code",
      "source": [
        "# importances = model.get_feature_importance(type='PredictionValuesChange')\n",
        "# feature_importances = pd.Series(importances, index=cool_train.columns).sort_values()"
      ],
      "metadata": {
        "id": "hMAByCn8taxl"
      },
      "execution_count": null,
      "outputs": []
    },
    {
      "cell_type": "code",
      "source": [
        "# plt.figure(figsize=(20, 20))\n",
        "\n",
        "# plt.barh(feature_importances.index, feature_importances.values)\n",
        "# plt.title('CatBoost Feature Importance')\n",
        "# plt.xlabel('Importance')\n",
        "# plt.ylabel('Features')\n",
        "\n",
        "# plt.show()"
      ],
      "metadata": {
        "id": "-NuQIm8_QNJD"
      },
      "execution_count": null,
      "outputs": []
    },
    {
      "cell_type": "code",
      "source": [
        "# x_test = test_df.copy()\n",
        "# x_test['start_cluster'] = test_df['start_cluster'].fillna(method='ffill')"
      ],
      "metadata": {
        "id": "ZSeWh807xnQH"
      },
      "execution_count": null,
      "outputs": []
    },
    {
      "cell_type": "code",
      "source": [
        "# cities = []\n",
        "# probs = []\n",
        "# for x, y in zip(x_test['index_city_code'].value_counts(), x_test['index_city_code'].value_counts().index):\n",
        "#   cities.append(y)\n",
        "#   probs.append(x)\n",
        "\n",
        "# probs = np.array(probs)/np.sum(probs)\n",
        "\n",
        "# import random\n",
        "\n",
        "# random.choices(\n",
        "#      population=cities,\n",
        "#      weights=probs,\n",
        "#      k=1\n",
        "#  )"
      ],
      "metadata": {
        "colab": {
          "base_uri": "https://localhost:8080/"
        },
        "id": "2j3Mgdgm5b2A",
        "outputId": "06029d14-3624-4eb5-b163-b2a71525487c"
      },
      "execution_count": null,
      "outputs": [
        {
          "output_type": "execute_result",
          "data": {
            "text/plain": [
              "['index_city_code_98']"
            ]
          },
          "metadata": {},
          "execution_count": 15
        }
      ]
    },
    {
      "cell_type": "code",
      "source": [
        "# num_cols = x_test.select_dtypes(include='number').columns\n",
        "# cat_cols = x_test.drop(num_cols, axis=1).columns\n",
        "\n",
        "# for column in num_cols:\n",
        "#   x_test[column] = x_test[column].fillna(x_test[column].median())\n",
        "\n",
        "# for column in cat_cols:\n",
        "#   if column == 'index_city_code':\n",
        "#     x_test[column] = x_test[column].apply(lambda x: random.choices(\n",
        "#      population=cities,\n",
        "#      weights=probs,\n",
        "#      k=1\n",
        "#  )[0] if not x else x)\n",
        "#   else:\n",
        "#     x_test[column] = x_test[column].fillna(x_test[column].mode()[0])"
      ],
      "metadata": {
        "id": "N2LGVRaKvj9r"
      },
      "execution_count": null,
      "outputs": []
    },
    {
      "cell_type": "code",
      "source": [
        "sample_submission_df = pd.read_csv(\"sample_submission.csv\")"
      ],
      "metadata": {
        "id": "cG5GFZDtxv-D"
      },
      "execution_count": null,
      "outputs": []
    },
    {
      "cell_type": "code",
      "source": [
        "# cool_test = x_test.drop(columns=drop_columns)"
      ],
      "metadata": {
        "id": "1matiyu2mJ09"
      },
      "execution_count": null,
      "outputs": []
    },
    {
      "cell_type": "code",
      "source": [
        "# num_cols_ = cool_test.select_dtypes(include='number').columns"
      ],
      "metadata": {
        "id": "60cQCpCJqyjc"
      },
      "execution_count": null,
      "outputs": []
    },
    {
      "cell_type": "code",
      "source": [
        "# last_m_test_df = cool_test[cool_test[\"date\"] == \"month_6\"]\n",
        "# cool_cool_test = cool_test[cool_test[\"date\"] == \"month_5\"]\n",
        "# last_m_test_df = last_m_test_df.drop([\"id\", \"date\"], axis=1)"
      ],
      "metadata": {
        "id": "tigCkT1Zx0A7"
      },
      "execution_count": null,
      "outputs": []
    },
    {
      "cell_type": "code",
      "source": [
        "# test_pred_proba = model.predict_proba(last_m_test_df)\n",
        "# test_pred_proba_df = pd.DataFrame(test_pred_proba, columns=model.classes_)"
      ],
      "metadata": {
        "id": "XNelQNE4x3oG"
      },
      "execution_count": null,
      "outputs": []
    },
    {
      "cell_type": "code",
      "source": [
        "# test_pred_proba_df['id'] = cool_test['id'].unique()\n",
        "# test_pred_proba_df = test_pred_proba_df.reindex(columns=['id', *list(test_pred_proba_df.columns[:-1])])"
      ],
      "metadata": {
        "id": "rk2x8Xe05os3"
      },
      "execution_count": null,
      "outputs": []
    },
    {
      "cell_type": "code",
      "source": [
        "# test_pred_proba_df = test_pred_proba_df.reindex(columns=['id', *list(test_pred_proba_df.columns[:-1])])"
      ],
      "metadata": {
        "id": "Ou5yrN2_6MPV"
      },
      "execution_count": null,
      "outputs": []
    },
    {
      "cell_type": "code",
      "source": [
        "# test_pred_proba_df"
      ],
      "metadata": {
        "id": "ET-vNTzD6rro"
      },
      "execution_count": null,
      "outputs": []
    },
    {
      "cell_type": "code",
      "source": [
        "# sorted_classes = sorted(test_pred_proba_df.columns.to_list())"
      ],
      "metadata": {
        "id": "SIuLDgJI27AD"
      },
      "execution_count": null,
      "outputs": []
    },
    {
      "cell_type": "code",
      "source": [
        "# sample_submission_df[sorted_classes] = test_pred_proba_df\n",
        "# sample_submission_df.to_csv(\"baseline_submission.csv\", index=False)"
      ],
      "metadata": {
        "id": "_VqUM-as2Kfx"
      },
      "execution_count": null,
      "outputs": []
    },
    {
      "cell_type": "code",
      "source": [
        "params = {\n",
        "    'iterations': 170,\n",
        "    'learning_rate': 0.2418141586121033,\n",
        "    'depth': 12,\n",
        "    'l2_leaf_reg': 0.014620864278662526,\n",
        "    'boosting_type': 'Plain',\n",
        "    'bootstrap_type': 'Bernoulli',\n",
        "    'subsample': 0.17991574290710002,\n",
        "    # 'class_weights': class_weights,\n",
        "    'task_type': \"GPU\",\n",
        "    'devices': '0:1'\n",
        "\n",
        "}\n",
        "# model = CatBoostClassifier(**{'iterations': 25,\n",
        "#                               'learning_rate': 0.2418141586121033,\n",
        "#                               'depth': 12,\n",
        "#                               'l2_leaf_reg': 0.014620864278662526,\n",
        "#                               'boosting_type': 'Plain',\n",
        "#                               'bootstrap_type': 'Bernoulli',\n",
        "#                               'subsample': 0.17991574290710002},\n",
        "#                                class_weights=class_weights,\n",
        "#                                task_type=\"GPU\",\n",
        "#                                devices='0:1')\n",
        "\n",
        "# model.fit(cool_train, y_train,\n",
        "#         cat_features=list(cat_cols),\n",
        "#         eval_set=(cool_val, y_val)\n",
        "#         )"
      ],
      "metadata": {
        "id": "I9R2SSYAVLEZ"
      },
      "execution_count": null,
      "outputs": []
    },
    {
      "cell_type": "code",
      "source": [
        "from sklearn.model_selection import train_test_split\n",
        "import datetime\n",
        "\n",
        "cities = []\n",
        "probs = []\n",
        "for x, z in zip(train_df['index_city_code'].value_counts(), train_df['index_city_code'].value_counts().index):\n",
        "  cities.append(z)\n",
        "  probs.append(x)\n",
        "\n",
        "probs = np.array(probs)/np.sum(probs)\n",
        "\n",
        "import random\n",
        "\n",
        "random.choices(\n",
        "     population=cities,\n",
        "     weights=probs,\n",
        "     k=1\n",
        " )\n",
        "\n",
        "X = train_df.drop([\"id\", \"date\", \"end_cluster\"\n",
        "#, \"index_city_code\"\n",
        "                   ], axis=1)\n",
        "y = train_df[\"end_cluster\"]\n",
        "\n",
        "num_cols = X.select_dtypes(include='number').columns\n",
        "cat_cols = X.drop(num_cols, axis=1).columns\n",
        "\n",
        "for column in num_cols:\n",
        "  X[column] = X[column].fillna(X[column].median())\n",
        "\n",
        "for column in cat_cols:\n",
        "  if column == 'index_city_code':\n",
        "    X[column] = X[column].apply(lambda x: random.choices(\n",
        "     population=cities,\n",
        "     weights=probs,\n",
        "     k=1\n",
        " )[0] if not x else x)\n",
        "  else:\n",
        "    X[column] = X[column].fillna(X[column].mode()[0])\n",
        "\n",
        "\n",
        "X[\"ogrn_month_num\"] = X[\"ogrn_month\"].apply(lambda x: (int(x.split('_')[2]) + 1) if not x is None else x)\n",
        "X[\"ogrn_year_num\"] = X[\"ogrn_year\"].apply(lambda x: int(x.split('_')[2]) + 2000 if not (x is None) else x)\n",
        "X['ts'] = [datetime.datetime(int(i), int(j), 1).timestamp() if not(pd.isna(i) or pd.isna(j)) else datetime.datetime(11, 5, 1).timestamp() for i, j in zip(np.array(X[\"ogrn_year_num\"]), np.array(X[\"ogrn_month_num\"]))]"
      ],
      "metadata": {
        "id": "V3x3OEGYWmEi"
      },
      "execution_count": null,
      "outputs": []
    },
    {
      "cell_type": "code",
      "source": [
        "X = X.drop(columns=drop_columns)\n",
        "\n",
        "x_train, x_val, y_train, y_val = train_test_split(X, y,\n",
        "                                                  test_size=0.2,\n",
        "                                                  stratify=y,\n",
        "                                                  random_state=42)"
      ],
      "metadata": {
        "id": "ikG7KbDQi7Jx"
      },
      "execution_count": null,
      "outputs": []
    },
    {
      "cell_type": "code",
      "source": [
        "x_test = test_df.copy()\n",
        "x_test['start_cluster'] = test_df['start_cluster'].fillna(method='ffill')\n",
        "\n",
        "cities = []\n",
        "probs = []\n",
        "for x, z in zip(x_test['index_city_code'].value_counts(), x_test['index_city_code'].value_counts().index):\n",
        "  cities.append(z)\n",
        "  probs.append(x)\n",
        "\n",
        "probs = np.array(probs)/np.sum(probs)\n",
        "\n",
        "import random\n",
        "\n",
        "random.choices(\n",
        "     population=cities,\n",
        "     weights=probs,\n",
        "     k=1\n",
        " )\n",
        "\n",
        "num_cols = x_test.select_dtypes(include='number').columns\n",
        "cat_cols = x_test.drop(num_cols, axis=1).columns\n",
        "\n",
        "for column in num_cols:\n",
        "  x_test[column] = x_test[column].fillna(x_test[column].median())\n",
        "\n",
        "for column in cat_cols:\n",
        "  if column == 'index_city_code':\n",
        "    x_test[column] = x_test[column].apply(lambda x: random.choices(\n",
        "     population=cities,\n",
        "     weights=probs,\n",
        "     k=1\n",
        " )[0] if not x else x)\n",
        "  else:\n",
        "    x_test[column] = x_test[column].fillna(x_test[column].mode()[0])\n",
        "\n",
        "\n",
        "\n",
        "x_test[\"ogrn_month_num\"] = x_test[\"ogrn_month\"].apply(lambda x: (int(x.split('_')[2]) + 1) if not x is None else x)\n",
        "x_test[\"ogrn_year_num\"] = x_test[\"ogrn_year\"].apply(lambda x: int(x.split('_')[2]) + 2000 if not (x is None) else x)\n",
        "x_test['ts'] = [datetime.datetime(int(i), int(j), 1).timestamp() if not(pd.isna(i) or pd.isna(j)) else datetime.datetime(11, 5, 1).timestamp() for i, j in zip(np.array(x_test[\"ogrn_year_num\"]), np.array(x_test[\"ogrn_month_num\"]))]\n",
        "cool_test = x_test.drop(columns=drop_columns)"
      ],
      "metadata": {
        "id": "-k1dPWv9jSJm"
      },
      "execution_count": null,
      "outputs": []
    },
    {
      "cell_type": "code",
      "source": [
        "last_m_test_df = cool_test[cool_test[\"date\"] == \"month_6\"].drop([\"id\", \"date\"], axis=1)\n",
        "cool_cool_test = cool_test[cool_test[\"date\"] == \"month_5\"].drop([\"id\", \"date\"], axis=1)"
      ],
      "metadata": {
        "id": "HXZxJGLIjKrM"
      },
      "execution_count": null,
      "outputs": []
    },
    {
      "cell_type": "code",
      "source": [
        "from catboost import CatBoostClassifier"
      ],
      "metadata": {
        "id": "rM1GEK3-ChNQ"
      },
      "execution_count": null,
      "outputs": []
    },
    {
      "cell_type": "code",
      "source": [
        "from sklearn.model_selection import KFold\n",
        "import xgboost as xgb\n",
        "\n",
        "def xgb_train(X, y, test_X, params):\n",
        "    kf = KFold(n_splits=5, shuffle=True, random_state=2017)\n",
        "    test_pred = []\n",
        "    train_pred = []\n",
        "    val_scores = []\n",
        "    for dev_index, val_index in kf.split(train_df):\n",
        "        train_x, valid_x = X.loc[dev_index,:], X.loc[val_index,:]\n",
        "        train_y, valid_y = y[dev_index], y[val_index]\n",
        "        xgb_submit_data = xgb.DMatrix(test_X)\n",
        "        dtrain = xgb.DMatrix(train_x, label=train_y)\n",
        "        dvalid = xgb.DMatrix(valid_x, label=valid_y)\n",
        "        xgb_submit_data_train = xgb.DMatrix(X)\n",
        "        # xgb_model = xgb.train(params, xgb_train_data,\n",
        "                        #   num_boost_round=2000,\n",
        "                        #   evals= [(xgb_train_data, 'train'), (xgb_val_data, 'valid')],\n",
        "                        #   early_stopping_rounds=100,\n",
        "                        #   verbose_eval=500\n",
        "                        #  )\n",
        "        xgb_model = xgb.train(params, dtrain)\n",
        "        pred_test = xgb_model.predict(xgb_submit_data)\n",
        "        pred_val = xgb_model.predict(dvalid)\n",
        "        pred_train = xgb_model.predict(xgb_submit_data_train)\n",
        "\n",
        "        score = weighted_roc_auc(valid_y, pred_val, sorted(list(np.unique(train_y))), weights_dict)\n",
        "        val_scores.append(score)\n",
        "        test_pred.append(pred_test)\n",
        "        train_pred.append(pred_train)\n",
        "    return val_scores, test_pred, pred_train"
      ],
      "metadata": {
        "id": "rGSyEWk1VGqs"
      },
      "execution_count": null,
      "outputs": []
    },
    {
      "cell_type": "code",
      "source": [
        "from sklearn.model_selection import KFold\n",
        "import xgboost as xgb\n",
        "\n",
        "def catboost_train(X, y, X_test, params):\n",
        "    kf = KFold(n_splits=3, shuffle=True, random_state=2017)\n",
        "    pred_test = []\n",
        "    pred_train = []\n",
        "    for dev_index, val_index in kf.split(X):\n",
        "        train_x, valid_x = X.loc[dev_index,:], X.loc[val_index,:]\n",
        "        train_y, valid_y = y[dev_index], y[val_index]\n",
        "        num_cols = train_x.select_dtypes(include='number').columns\n",
        "        cat_cols = train_x.drop(num_cols, axis=1).columns\n",
        "\n",
        "        model = CatBoostClassifier(**params)\n",
        "        model.fit(train_x, train_y,\n",
        "        cat_features=list(cat_cols),\n",
        "        eval_set=(valid_x, valid_y)\n",
        "        )\n",
        "        pred_test.append(model.predict_proba(X_test))\n",
        "        pred_val.append(model.predict_proba(X))\n",
        "    return pred_test, pred_train"
      ],
      "metadata": {
        "id": "UXxG-STM2bTk"
      },
      "execution_count": null,
      "outputs": []
    },
    {
      "cell_type": "code",
      "source": [
        "pred_test, pred_val = catboost_train(X, y, last_m_test_df, params)"
      ],
      "metadata": {
        "id": "0oIcVByEW8jz"
      },
      "execution_count": null,
      "outputs": []
    },
    {
      "cell_type": "code",
      "source": [
        "x = pred_test[0] + pred_test[1] + pred_test[2]\n",
        "x /= 3"
      ],
      "metadata": {
        "id": "5aUWyzHuabDE"
      },
      "execution_count": null,
      "outputs": []
    },
    {
      "cell_type": "code",
      "source": [
        "x"
      ],
      "metadata": {
        "colab": {
          "base_uri": "https://localhost:8080/"
        },
        "id": "lUXH0Kn-ckDa",
        "outputId": "72444093-9a32-4eec-e0b9-0ffeb14c7907"
      },
      "execution_count": null,
      "outputs": [
        {
          "output_type": "execute_result",
          "data": {
            "text/plain": [
              "array([[1.18323308e-02, 3.24822404e-03, 4.38267568e-03, ...,\n",
              "        9.20298518e-05, 8.14982806e-01, 8.86585939e-08],\n",
              "       [4.01962359e-04, 6.35699746e-01, 3.57367654e-06, ...,\n",
              "        1.10350333e-05, 3.63138107e-01, 1.29279160e-07],\n",
              "       [8.19766903e-01, 6.90453314e-05, 6.96623834e-04, ...,\n",
              "        6.65079679e-04, 5.34961247e-02, 3.01874628e-07],\n",
              "       ...,\n",
              "       [1.15405474e-02, 4.99337265e-02, 5.26947955e-03, ...,\n",
              "        7.99122560e-04, 8.53584035e-01, 4.29612030e-08],\n",
              "       [8.64456866e-02, 1.20862749e-01, 1.32101701e-04, ...,\n",
              "        2.29603443e-04, 7.75020961e-01, 7.08937971e-07],\n",
              "       [7.70836188e-03, 2.08716430e-01, 1.45732182e-03, ...,\n",
              "        6.94205768e-05, 7.28328688e-01, 4.23637084e-08]])"
            ]
          },
          "metadata": {},
          "execution_count": 35
        }
      ]
    },
    {
      "cell_type": "code",
      "source": [
        "test_pred_proba_df = pd.DataFrame(x, columns=classes)\n",
        "test_pred_proba_df['id'] = cool_test['id'].unique()\n",
        "test_pred_proba_df = test_pred_proba_df.reindex(columns=['id', *list(test_pred_proba_df.columns[:-1])])\n",
        "test_pred_proba_df.to_csv('cool_submission.csv', index=False)"
      ],
      "metadata": {
        "id": "q2frk6Mpopj_"
      },
      "execution_count": null,
      "outputs": []
    },
    {
      "cell_type": "code",
      "source": [],
      "metadata": {
        "id": "dB5jxBFfov7h"
      },
      "execution_count": null,
      "outputs": []
    },
    {
      "cell_type": "markdown",
      "source": [
        "##TO DO\n",
        "1. Пресс качат\n",
        "2. Анжуманя\n",
        "3. Бегит\n",
        "4. Потягиваний\n",
        "5. Outlier Detection and Handling: Identify and handle outliers in your dataset that may be affecting the model's performance. You can use techniques such as Z-score, IQR (Interquartile Range), or isolation forests to detect and either remove or transform outliers.\n",
        "6. Стакинг/блендинг бустингов\n",
        "7. Ну и фичи посоздавать\n"
      ],
      "metadata": {
        "id": "L3IgPh0I_Ojy"
      }
    },
    {
      "cell_type": "markdown",
      "source": [
        "##XGB"
      ],
      "metadata": {
        "id": "Rbv-ovnMrXKd"
      }
    },
    {
      "cell_type": "code",
      "source": [
        "!pip install xgboost optuna"
      ],
      "metadata": {
        "colab": {
          "base_uri": "https://localhost:8080/"
        },
        "id": "IcWeQijJrYV2",
        "outputId": "7afc42eb-7ea8-49cd-91d2-91b8f30c0997"
      },
      "execution_count": null,
      "outputs": [
        {
          "output_type": "stream",
          "name": "stdout",
          "text": [
            "Requirement already satisfied: xgboost in /usr/local/lib/python3.10/dist-packages (2.0.3)\n",
            "Requirement already satisfied: optuna in /usr/local/lib/python3.10/dist-packages (3.5.0)\n",
            "Requirement already satisfied: numpy in /usr/local/lib/python3.10/dist-packages (from xgboost) (1.25.2)\n",
            "Requirement already satisfied: scipy in /usr/local/lib/python3.10/dist-packages (from xgboost) (1.11.4)\n",
            "Requirement already satisfied: alembic>=1.5.0 in /usr/local/lib/python3.10/dist-packages (from optuna) (1.13.1)\n",
            "Requirement already satisfied: colorlog in /usr/local/lib/python3.10/dist-packages (from optuna) (6.8.2)\n",
            "Requirement already satisfied: packaging>=20.0 in /usr/local/lib/python3.10/dist-packages (from optuna) (24.0)\n",
            "Requirement already satisfied: sqlalchemy>=1.3.0 in /usr/local/lib/python3.10/dist-packages (from optuna) (2.0.28)\n",
            "Requirement already satisfied: tqdm in /usr/local/lib/python3.10/dist-packages (from optuna) (4.66.2)\n",
            "Requirement already satisfied: PyYAML in /usr/local/lib/python3.10/dist-packages (from optuna) (6.0.1)\n",
            "Requirement already satisfied: Mako in /usr/local/lib/python3.10/dist-packages (from alembic>=1.5.0->optuna) (1.3.2)\n",
            "Requirement already satisfied: typing-extensions>=4 in /usr/local/lib/python3.10/dist-packages (from alembic>=1.5.0->optuna) (4.10.0)\n",
            "Requirement already satisfied: greenlet!=0.4.17 in /usr/local/lib/python3.10/dist-packages (from sqlalchemy>=1.3.0->optuna) (3.0.3)\n",
            "Requirement already satisfied: MarkupSafe>=0.9.2 in /usr/local/lib/python3.10/dist-packages (from Mako->alembic>=1.5.0->optuna) (2.1.5)\n"
          ]
        }
      ]
    },
    {
      "cell_type": "code",
      "source": [
        "from sklearn.preprocessing import LabelEncoder\n",
        "\n",
        "cat_cols = X.select_dtypes(exclude=['float64', 'int64']).columns\n",
        "\n",
        "encoded_train = X.copy()\n",
        "encoded_test = last_m_test_df.copy()\n",
        "for col in cat_cols:\n",
        "    if col == 'end_cluster':\n",
        "      break\n",
        "    lbl = LabelEncoder()\n",
        "    lbl.fit(list(X[col].values.astype('str')) + list(last_m_test_df[col].values.astype('str')))\n",
        "    encoded_train[col] = lbl.transform(list(X[col].values.astype('str')))\n",
        "    encoded_test[col] = lbl.transform(list(last_m_test_df[col].values.astype('str')))\n",
        "\n",
        "target_encoder = LabelEncoder()\n",
        "encoded_y = target_encoder.fit_transform(y)"
      ],
      "metadata": {
        "id": "L0_lWspSDCS2"
      },
      "execution_count": null,
      "outputs": []
    },
    {
      "cell_type": "code",
      "source": [
        "# import sklearn\n",
        "# import optuna\n",
        "\n",
        "# def objective(trial):\n",
        "#     data, target = encoded_train.copy(), encoded_y.copy()\n",
        "#     train_x, valid_x, train_y, valid_y = train_test_split(data, target, test_size=0.25, stratify=target)\n",
        "#     dtrain = xgb.DMatrix(train_x, label=train_y)\n",
        "#     dvalid = xgb.DMatrix(valid_x, label=valid_y)\n",
        "\n",
        "#     param = {\n",
        "#         \"verbosity\": 0,\n",
        "#         \"objective\": \"multi:softprob\",\n",
        "#         # defines booster, gblinear for linear functions.\n",
        "#         \"booster\": trial.suggest_categorical(\"booster\", [\"gbtree\", \"gblinear\", \"dart\"]),\n",
        "#         # L2 regularization weight.\n",
        "#         \"lambda\": trial.suggest_float(\"lambda\", 1e-8, 1.0, log=True),\n",
        "#         # L1 regularization weight.\n",
        "#         \"alpha\": trial.suggest_float(\"alpha\", 1e-8, 1.0, log=True),\n",
        "#         # sampling ratio for training data.\n",
        "#         \"subsample\": trial.suggest_float(\"subsample\", 0.2, 1.0),\n",
        "#         # sampling according to each tree.\n",
        "#         \"colsample_bytree\": trial.suggest_float(\"colsample_bytree\", 0.2, 1.0),\n",
        "#         \"num_class\" : 17,\n",
        "#         \"tree_method\" : \"gpu_hist\"\n",
        "#     }\n",
        "\n",
        "#     if param[\"booster\"] in [\"gbtree\", \"dart\"]:\n",
        "#         # maximum depth of the tree, signifies complexity of the tree.\n",
        "#         param[\"max_depth\"] = trial.suggest_int(\"max_depth\", 3, 9, step=2)\n",
        "#         # minimum child weight, larger the term more conservative the tree.\n",
        "#         param[\"min_child_weight\"] = trial.suggest_int(\"min_child_weight\", 2, 10)\n",
        "#         param[\"eta\"] = trial.suggest_float(\"eta\", 1e-8, 1.0, log=True)\n",
        "#         # defines how selective algorithm is.\n",
        "#         param[\"gamma\"] = trial.suggest_float(\"gamma\", 1e-8, 1.0, log=True)\n",
        "#         param[\"grow_policy\"] = trial.suggest_categorical(\"grow_policy\", [\"depthwise\", \"lossguide\"])\n",
        "\n",
        "#     if param[\"booster\"] == \"dart\":\n",
        "#         param[\"sample_type\"] = trial.suggest_categorical(\"sample_type\", [\"uniform\", \"weighted\"])\n",
        "#         param[\"normalize_type\"] = trial.suggest_categorical(\"normalize_type\", [\"tree\", \"forest\"])\n",
        "#         param[\"rate_drop\"] = trial.suggest_float(\"rate_drop\", 1e-8, 1.0, log=True)\n",
        "#         param[\"skip_drop\"] = trial.suggest_float(\"skip_drop\", 1e-8, 1.0, log=True)\n",
        "\n",
        "#     bst = xgb.train(param, dtrain)\n",
        "#     preds = bst.predict(dvalid)\n",
        "#     pred_labels = np.argmax(preds, axis=1)\n",
        "#     print(pred_labels)\n",
        "#     accuracy = sklearn.metrics.accuracy_score(valid_y, pred_labels)\n",
        "#     return accuracy\n",
        "\n",
        "\n",
        "# study = optuna.create_study(direction=\"maximize\")\n",
        "# study.optimize(objective, n_trials=100, timeout=600)\n",
        "\n",
        "# print(\"Number of finished trials: \", len(study.trials))\n",
        "# print(\"Best trial:\")\n",
        "# trial = study.best_trial\n",
        "\n",
        "# print(\"  Value: {}\".format(trial.value))\n",
        "# print(\"  Params: \")\n",
        "# for key, value in trial.params.items():\n",
        "#     print(\"    {}: {}\".format(key, value))"
      ],
      "metadata": {
        "id": "z--a8COHrqZX"
      },
      "execution_count": null,
      "outputs": []
    },
    {
      "cell_type": "code",
      "source": [
        "params={ \"objective\": \"multi:softprob\",\n",
        "        'booster': 'dart',\n",
        "        'lambda': 3.63407580515308e-05,\n",
        "        'alpha': 0.050581429315105654,\n",
        "        'subsample': 0.9360140214177146,\n",
        "        'colsample_bytree': 0.9391425003494083,\n",
        "        'max_depth': 9,\n",
        "        'min_child_weight': 10,\n",
        "        'eta': 0.00018510876069045116,\n",
        "        'gamma': 6.218469831634942e-05,\n",
        "        'grow_policy': 'lossguide',\n",
        "        'sample_type': 'uniform',\n",
        "        'normalize_type': 'tree',\n",
        "        'rate_drop': 3.4193249267402867e-07,\n",
        "        'skip_drop': 0.0030978399596371968,\n",
        "        \"num_class\" : 17,\n",
        "        \"device\" : \"cuda\"}"
      ],
      "metadata": {
        "id": "qL6IijKdKijK"
      },
      "execution_count": null,
      "outputs": []
    },
    {
      "cell_type": "code",
      "source": [
        "from sklearn.model_selection import KFold\n",
        "import xgboost as xgb\n",
        "\n",
        "def xgb_train(X, y, test_X, params):\n",
        "    kf = KFold(n_splits=5, shuffle=True, random_state=2017)\n",
        "    test_pred = []\n",
        "    train_pred = []\n",
        "    val_scores = []\n",
        "    for dev_index, val_index in kf.split(train_df):\n",
        "        train_x, valid_x = X.loc[dev_index,:], X.loc[val_index,:]\n",
        "        train_y, valid_y = y[dev_index], y[val_index]\n",
        "        xgb_submit_data = xgb.DMatrix(test_X)\n",
        "        dtrain = xgb.DMatrix(train_x, label=train_y)\n",
        "        dvalid = xgb.DMatrix(valid_x, label=valid_y)\n",
        "        xgb_submit_data_train = xgb.DMatrix(X)\n",
        "        # xgb_model = xgb.train(params, xgb_train_data,\n",
        "                        #   num_boost_round=2000,\n",
        "                        #   evals= [(xgb_train_data, 'train'), (xgb_val_data, 'valid')],\n",
        "                        #   early_stopping_rounds=100,\n",
        "                        #   verbose_eval=500\n",
        "                        #  )\n",
        "        xgb_model = xgb.train(params, dtrain)\n",
        "        pred_test = xgb_model.predict(xgb_submit_data)\n",
        "        pred_val = xgb_model.predict(dvalid)\n",
        "        pred_train = xgb_model.predict(xgb_submit_data_train)\n",
        "\n",
        "        score = weighted_roc_auc(valid_y, pred_val, sorted(list(np.unique(train_y))), weights_dict)\n",
        "        val_scores.append(score)\n",
        "        test_pred.append(pred_test)\n",
        "        train_pred.append(pred_train)\n",
        "    return val_scores, test_pred, pred_train"
      ],
      "metadata": {
        "id": "EDWB88_zrcdc"
      },
      "execution_count": null,
      "outputs": []
    },
    {
      "cell_type": "code",
      "source": [
        "val_scores, test_pred, train_pred = xgb_train(encoded_train, encoded_y, encoded_test, params)"
      ],
      "metadata": {
        "colab": {
          "base_uri": "https://localhost:8080/"
        },
        "id": "lqZz8m_BLbhl",
        "outputId": "37999f06-3572-47fe-93f5-798356a4f505"
      },
      "execution_count": null,
      "outputs": [
        {
          "output_type": "stream",
          "name": "stderr",
          "text": [
            "/usr/local/lib/python3.10/dist-packages/xgboost/core.py:160: UserWarning: [19:17:43] WARNING: /workspace/src/learner.cc:742: \n",
            "Parameters: { \"iterations\" } are not used.\n",
            "\n",
            "  warnings.warn(smsg, UserWarning)\n",
            "/usr/local/lib/python3.10/dist-packages/xgboost/core.py:160: UserWarning: [19:17:52] WARNING: /workspace/src/learner.cc:742: \n",
            "Parameters: { \"iterations\" } are not used.\n",
            "\n",
            "  warnings.warn(smsg, UserWarning)\n",
            "/usr/local/lib/python3.10/dist-packages/xgboost/core.py:160: UserWarning: [19:18:01] WARNING: /workspace/src/learner.cc:742: \n",
            "Parameters: { \"iterations\" } are not used.\n",
            "\n",
            "  warnings.warn(smsg, UserWarning)\n",
            "/usr/local/lib/python3.10/dist-packages/xgboost/core.py:160: UserWarning: [19:18:10] WARNING: /workspace/src/learner.cc:742: \n",
            "Parameters: { \"iterations\" } are not used.\n",
            "\n",
            "  warnings.warn(smsg, UserWarning)\n",
            "/usr/local/lib/python3.10/dist-packages/xgboost/core.py:160: UserWarning: [19:18:20] WARNING: /workspace/src/learner.cc:742: \n",
            "Parameters: { \"iterations\" } are not used.\n",
            "\n",
            "  warnings.warn(smsg, UserWarning)\n"
          ]
        }
      ]
    },
    {
      "cell_type": "code",
      "source": [
        "test_pred"
      ],
      "metadata": {
        "colab": {
          "base_uri": "https://localhost:8080/"
        },
        "id": "UrTRu6paPQGR",
        "outputId": "68f951cb-f21c-438a-e493-d6d455d1ee8e"
      },
      "execution_count": null,
      "outputs": [
        {
          "output_type": "execute_result",
          "data": {
            "text/plain": [
              "array([[0.05883603, 0.05877538, 0.05878915, ..., 0.05877412, 0.05945024,\n",
              "        0.05876395],\n",
              "       [0.05877243, 0.05920893, 0.05876299, ..., 0.05876292, 0.05934289,\n",
              "        0.05876094],\n",
              "       [0.05945564, 0.0587684 , 0.05876938, ..., 0.05878258, 0.05881174,\n",
              "        0.05876278],\n",
              "       ...,\n",
              "       [0.05879349, 0.0588019 , 0.05878742, ..., 0.05878458, 0.05951184,\n",
              "        0.05876647],\n",
              "       [0.05885357, 0.05888578, 0.05879402, ..., 0.05879043, 0.05915581,\n",
              "        0.05878725],\n",
              "       [0.05878088, 0.05879073, 0.05877604, ..., 0.05876962, 0.05961139,\n",
              "        0.05876475]], dtype=float32)"
            ]
          },
          "metadata": {},
          "execution_count": 65
        }
      ]
    },
    {
      "cell_type": "code",
      "source": [
        "test_pred = test_pred[0] + test_pred[1] + test_pred[2]\n",
        "test_pred /= 3"
      ],
      "metadata": {
        "id": "pfMRlGlKN_oN"
      },
      "execution_count": null,
      "outputs": []
    },
    {
      "cell_type": "code",
      "source": [
        "sample_submission_df.columns"
      ],
      "metadata": {
        "colab": {
          "base_uri": "https://localhost:8080/"
        },
        "id": "_uH5uzouOXWn",
        "outputId": "56d7eac9-5860-437c-ee4f-143a49a5e79c"
      },
      "execution_count": null,
      "outputs": [
        {
          "output_type": "execute_result",
          "data": {
            "text/plain": [
              "Index(['id', '{other}', '{}', '{α, β}', '{α, γ}', '{α, δ}', '{α, ε, η}',\n",
              "       '{α, ε, θ}', '{α, ε, ψ}', '{α, ε}', '{α, η}', '{α, θ}', '{α, λ}',\n",
              "       '{α, μ}', '{α, π}', '{α, ψ}', '{α}', '{λ}'],\n",
              "      dtype='object')"
            ]
          },
          "metadata": {},
          "execution_count": 57
        }
      ]
    },
    {
      "cell_type": "code",
      "source": [
        "test_pred"
      ],
      "metadata": {
        "colab": {
          "base_uri": "https://localhost:8080/"
        },
        "id": "jwn8QG9oOWI7",
        "outputId": "64b9f0a6-d1ad-4b29-f44d-eee89aed04dd"
      },
      "execution_count": null,
      "outputs": [
        {
          "output_type": "execute_result",
          "data": {
            "text/plain": [
              "array([[0.05883603, 0.05877538, 0.05878915, ..., 0.05877412, 0.05945024,\n",
              "        0.05876395],\n",
              "       [0.05877243, 0.05920893, 0.05876299, ..., 0.05876292, 0.05934289,\n",
              "        0.05876094],\n",
              "       [0.05945564, 0.0587684 , 0.05876938, ..., 0.05878258, 0.05881174,\n",
              "        0.05876278],\n",
              "       ...,\n",
              "       [0.05879349, 0.0588019 , 0.05878742, ..., 0.05878458, 0.05951184,\n",
              "        0.05876647],\n",
              "       [0.05885357, 0.05888578, 0.05879402, ..., 0.05879043, 0.05915581,\n",
              "        0.05878725],\n",
              "       [0.05878088, 0.05879073, 0.05877604, ..., 0.05876962, 0.05961139,\n",
              "        0.05876475]], dtype=float32)"
            ]
          },
          "metadata": {},
          "execution_count": 55
        }
      ]
    },
    {
      "cell_type": "code",
      "source": [
        "test_pred_proba_df = pd.DataFrame(test_pred, columns=sample_submission_df.columns[1:])\n",
        "test_pred_proba_df['id'] = cool_test['id'].unique()\n",
        "test_pred_proba_df = test_pred_proba_df.reindex(columns=['id', *list(test_pred_proba_df.columns[:-1])])\n",
        "test_pred_proba_df.to_csv('cool_submission.csv', index=False)"
      ],
      "metadata": {
        "id": "LRAAK3igOFGe"
      },
      "execution_count": null,
      "outputs": []
    },
    {
      "cell_type": "code",
      "source": [
        "test_pred_proba_df"
      ],
      "metadata": {
        "colab": {
          "base_uri": "https://localhost:8080/",
          "height": 461
        },
        "id": "tgy0h2zfOSrm",
        "outputId": "ff833d0b-baf3-4747-9403-9af94f34741d"
      },
      "execution_count": null,
      "outputs": [
        {
          "output_type": "execute_result",
          "data": {
            "text/plain": [
              "           id   {other}        {}    {α, β}    {α, γ}    {α, δ}  {α, ε, η}  \\\n",
              "0      200000  0.058836  0.058775  0.058789  0.058850  0.058781   0.058774   \n",
              "1      200001  0.058772  0.059209  0.058763  0.058764  0.058761   0.058761   \n",
              "2      200002  0.059456  0.058768  0.058769  0.058861  0.058772   0.058779   \n",
              "3      200003  0.058782  0.059374  0.058764  0.058765  0.058762   0.058763   \n",
              "4      200004  0.058868  0.058866  0.058799  0.058813  0.058799   0.058784   \n",
              "...       ...       ...       ...       ...       ...       ...        ...   \n",
              "99995  299995  0.058798  0.059145  0.058765  0.058768  0.058761   0.058760   \n",
              "99996  299996  0.058798  0.058789  0.058783  0.058821  0.058768   0.058767   \n",
              "99997  299997  0.058793  0.058802  0.058787  0.058847  0.058777   0.058767   \n",
              "99998  299998  0.058854  0.058886  0.058794  0.058815  0.058789   0.058797   \n",
              "99999  299999  0.058781  0.058791  0.058776  0.058817  0.058768   0.058765   \n",
              "\n",
              "       {α, ε, θ}  {α, ε, ψ}    {α, ε}    {α, η}    {α, θ}    {α, λ}    {α, μ}  \\\n",
              "0       0.058769   0.058769  0.058787  0.058799  0.058783  0.058768  0.058769   \n",
              "1       0.058761   0.058761  0.058763  0.058771  0.058763  0.058761  0.058761   \n",
              "2       0.058767   0.058783  0.058804  0.058797  0.058792  0.058767  0.058765   \n",
              "3       0.058762   0.058762  0.058763  0.058791  0.058764  0.058762  0.058762   \n",
              "4       0.058784   0.058784  0.058787  0.058801  0.058786  0.058784  0.058794   \n",
              "...          ...        ...       ...       ...       ...       ...       ...   \n",
              "99995   0.058760   0.058760  0.058763  0.058761  0.058764  0.058761  0.058760   \n",
              "99996   0.058767   0.058766  0.058771  0.058770  0.058776  0.058768  0.058768   \n",
              "99997   0.058767   0.058767  0.058783  0.058770  0.058774  0.058768  0.058769   \n",
              "99998   0.058787   0.058787  0.058794  0.058802  0.058789  0.058793  0.058791   \n",
              "99999   0.058767   0.058765  0.058774  0.058778  0.058773  0.058768  0.058766   \n",
              "\n",
              "         {α, π}    {α, ψ}       {α}       {λ}  \n",
              "0      0.058764  0.058774  0.059450  0.058764  \n",
              "1      0.058761  0.058763  0.059343  0.058761  \n",
              "2      0.058763  0.058783  0.058812  0.058763  \n",
              "3      0.058762  0.058763  0.059135  0.058762  \n",
              "4      0.058784  0.058785  0.059199  0.058784  \n",
              "...         ...       ...       ...       ...  \n",
              "99995  0.058760  0.058762  0.059390  0.058760  \n",
              "99996  0.058766  0.058768  0.059587  0.058766  \n",
              "99997  0.058766  0.058785  0.059512  0.058766  \n",
              "99998  0.058787  0.058790  0.059156  0.058787  \n",
              "99999  0.058765  0.058770  0.059611  0.058765  \n",
              "\n",
              "[100000 rows x 18 columns]"
            ],
            "text/html": [
              "\n",
              "  <div id=\"df-035296f4-6069-4f1b-97d7-b6b9b4974ce8\" class=\"colab-df-container\">\n",
              "    <div>\n",
              "<style scoped>\n",
              "    .dataframe tbody tr th:only-of-type {\n",
              "        vertical-align: middle;\n",
              "    }\n",
              "\n",
              "    .dataframe tbody tr th {\n",
              "        vertical-align: top;\n",
              "    }\n",
              "\n",
              "    .dataframe thead th {\n",
              "        text-align: right;\n",
              "    }\n",
              "</style>\n",
              "<table border=\"1\" class=\"dataframe\">\n",
              "  <thead>\n",
              "    <tr style=\"text-align: right;\">\n",
              "      <th></th>\n",
              "      <th>id</th>\n",
              "      <th>{other}</th>\n",
              "      <th>{}</th>\n",
              "      <th>{α, β}</th>\n",
              "      <th>{α, γ}</th>\n",
              "      <th>{α, δ}</th>\n",
              "      <th>{α, ε, η}</th>\n",
              "      <th>{α, ε, θ}</th>\n",
              "      <th>{α, ε, ψ}</th>\n",
              "      <th>{α, ε}</th>\n",
              "      <th>{α, η}</th>\n",
              "      <th>{α, θ}</th>\n",
              "      <th>{α, λ}</th>\n",
              "      <th>{α, μ}</th>\n",
              "      <th>{α, π}</th>\n",
              "      <th>{α, ψ}</th>\n",
              "      <th>{α}</th>\n",
              "      <th>{λ}</th>\n",
              "    </tr>\n",
              "  </thead>\n",
              "  <tbody>\n",
              "    <tr>\n",
              "      <th>0</th>\n",
              "      <td>200000</td>\n",
              "      <td>0.058836</td>\n",
              "      <td>0.058775</td>\n",
              "      <td>0.058789</td>\n",
              "      <td>0.058850</td>\n",
              "      <td>0.058781</td>\n",
              "      <td>0.058774</td>\n",
              "      <td>0.058769</td>\n",
              "      <td>0.058769</td>\n",
              "      <td>0.058787</td>\n",
              "      <td>0.058799</td>\n",
              "      <td>0.058783</td>\n",
              "      <td>0.058768</td>\n",
              "      <td>0.058769</td>\n",
              "      <td>0.058764</td>\n",
              "      <td>0.058774</td>\n",
              "      <td>0.059450</td>\n",
              "      <td>0.058764</td>\n",
              "    </tr>\n",
              "    <tr>\n",
              "      <th>1</th>\n",
              "      <td>200001</td>\n",
              "      <td>0.058772</td>\n",
              "      <td>0.059209</td>\n",
              "      <td>0.058763</td>\n",
              "      <td>0.058764</td>\n",
              "      <td>0.058761</td>\n",
              "      <td>0.058761</td>\n",
              "      <td>0.058761</td>\n",
              "      <td>0.058761</td>\n",
              "      <td>0.058763</td>\n",
              "      <td>0.058771</td>\n",
              "      <td>0.058763</td>\n",
              "      <td>0.058761</td>\n",
              "      <td>0.058761</td>\n",
              "      <td>0.058761</td>\n",
              "      <td>0.058763</td>\n",
              "      <td>0.059343</td>\n",
              "      <td>0.058761</td>\n",
              "    </tr>\n",
              "    <tr>\n",
              "      <th>2</th>\n",
              "      <td>200002</td>\n",
              "      <td>0.059456</td>\n",
              "      <td>0.058768</td>\n",
              "      <td>0.058769</td>\n",
              "      <td>0.058861</td>\n",
              "      <td>0.058772</td>\n",
              "      <td>0.058779</td>\n",
              "      <td>0.058767</td>\n",
              "      <td>0.058783</td>\n",
              "      <td>0.058804</td>\n",
              "      <td>0.058797</td>\n",
              "      <td>0.058792</td>\n",
              "      <td>0.058767</td>\n",
              "      <td>0.058765</td>\n",
              "      <td>0.058763</td>\n",
              "      <td>0.058783</td>\n",
              "      <td>0.058812</td>\n",
              "      <td>0.058763</td>\n",
              "    </tr>\n",
              "    <tr>\n",
              "      <th>3</th>\n",
              "      <td>200003</td>\n",
              "      <td>0.058782</td>\n",
              "      <td>0.059374</td>\n",
              "      <td>0.058764</td>\n",
              "      <td>0.058765</td>\n",
              "      <td>0.058762</td>\n",
              "      <td>0.058763</td>\n",
              "      <td>0.058762</td>\n",
              "      <td>0.058762</td>\n",
              "      <td>0.058763</td>\n",
              "      <td>0.058791</td>\n",
              "      <td>0.058764</td>\n",
              "      <td>0.058762</td>\n",
              "      <td>0.058762</td>\n",
              "      <td>0.058762</td>\n",
              "      <td>0.058763</td>\n",
              "      <td>0.059135</td>\n",
              "      <td>0.058762</td>\n",
              "    </tr>\n",
              "    <tr>\n",
              "      <th>4</th>\n",
              "      <td>200004</td>\n",
              "      <td>0.058868</td>\n",
              "      <td>0.058866</td>\n",
              "      <td>0.058799</td>\n",
              "      <td>0.058813</td>\n",
              "      <td>0.058799</td>\n",
              "      <td>0.058784</td>\n",
              "      <td>0.058784</td>\n",
              "      <td>0.058784</td>\n",
              "      <td>0.058787</td>\n",
              "      <td>0.058801</td>\n",
              "      <td>0.058786</td>\n",
              "      <td>0.058784</td>\n",
              "      <td>0.058794</td>\n",
              "      <td>0.058784</td>\n",
              "      <td>0.058785</td>\n",
              "      <td>0.059199</td>\n",
              "      <td>0.058784</td>\n",
              "    </tr>\n",
              "    <tr>\n",
              "      <th>...</th>\n",
              "      <td>...</td>\n",
              "      <td>...</td>\n",
              "      <td>...</td>\n",
              "      <td>...</td>\n",
              "      <td>...</td>\n",
              "      <td>...</td>\n",
              "      <td>...</td>\n",
              "      <td>...</td>\n",
              "      <td>...</td>\n",
              "      <td>...</td>\n",
              "      <td>...</td>\n",
              "      <td>...</td>\n",
              "      <td>...</td>\n",
              "      <td>...</td>\n",
              "      <td>...</td>\n",
              "      <td>...</td>\n",
              "      <td>...</td>\n",
              "      <td>...</td>\n",
              "    </tr>\n",
              "    <tr>\n",
              "      <th>99995</th>\n",
              "      <td>299995</td>\n",
              "      <td>0.058798</td>\n",
              "      <td>0.059145</td>\n",
              "      <td>0.058765</td>\n",
              "      <td>0.058768</td>\n",
              "      <td>0.058761</td>\n",
              "      <td>0.058760</td>\n",
              "      <td>0.058760</td>\n",
              "      <td>0.058760</td>\n",
              "      <td>0.058763</td>\n",
              "      <td>0.058761</td>\n",
              "      <td>0.058764</td>\n",
              "      <td>0.058761</td>\n",
              "      <td>0.058760</td>\n",
              "      <td>0.058760</td>\n",
              "      <td>0.058762</td>\n",
              "      <td>0.059390</td>\n",
              "      <td>0.058760</td>\n",
              "    </tr>\n",
              "    <tr>\n",
              "      <th>99996</th>\n",
              "      <td>299996</td>\n",
              "      <td>0.058798</td>\n",
              "      <td>0.058789</td>\n",
              "      <td>0.058783</td>\n",
              "      <td>0.058821</td>\n",
              "      <td>0.058768</td>\n",
              "      <td>0.058767</td>\n",
              "      <td>0.058767</td>\n",
              "      <td>0.058766</td>\n",
              "      <td>0.058771</td>\n",
              "      <td>0.058770</td>\n",
              "      <td>0.058776</td>\n",
              "      <td>0.058768</td>\n",
              "      <td>0.058768</td>\n",
              "      <td>0.058766</td>\n",
              "      <td>0.058768</td>\n",
              "      <td>0.059587</td>\n",
              "      <td>0.058766</td>\n",
              "    </tr>\n",
              "    <tr>\n",
              "      <th>99997</th>\n",
              "      <td>299997</td>\n",
              "      <td>0.058793</td>\n",
              "      <td>0.058802</td>\n",
              "      <td>0.058787</td>\n",
              "      <td>0.058847</td>\n",
              "      <td>0.058777</td>\n",
              "      <td>0.058767</td>\n",
              "      <td>0.058767</td>\n",
              "      <td>0.058767</td>\n",
              "      <td>0.058783</td>\n",
              "      <td>0.058770</td>\n",
              "      <td>0.058774</td>\n",
              "      <td>0.058768</td>\n",
              "      <td>0.058769</td>\n",
              "      <td>0.058766</td>\n",
              "      <td>0.058785</td>\n",
              "      <td>0.059512</td>\n",
              "      <td>0.058766</td>\n",
              "    </tr>\n",
              "    <tr>\n",
              "      <th>99998</th>\n",
              "      <td>299998</td>\n",
              "      <td>0.058854</td>\n",
              "      <td>0.058886</td>\n",
              "      <td>0.058794</td>\n",
              "      <td>0.058815</td>\n",
              "      <td>0.058789</td>\n",
              "      <td>0.058797</td>\n",
              "      <td>0.058787</td>\n",
              "      <td>0.058787</td>\n",
              "      <td>0.058794</td>\n",
              "      <td>0.058802</td>\n",
              "      <td>0.058789</td>\n",
              "      <td>0.058793</td>\n",
              "      <td>0.058791</td>\n",
              "      <td>0.058787</td>\n",
              "      <td>0.058790</td>\n",
              "      <td>0.059156</td>\n",
              "      <td>0.058787</td>\n",
              "    </tr>\n",
              "    <tr>\n",
              "      <th>99999</th>\n",
              "      <td>299999</td>\n",
              "      <td>0.058781</td>\n",
              "      <td>0.058791</td>\n",
              "      <td>0.058776</td>\n",
              "      <td>0.058817</td>\n",
              "      <td>0.058768</td>\n",
              "      <td>0.058765</td>\n",
              "      <td>0.058767</td>\n",
              "      <td>0.058765</td>\n",
              "      <td>0.058774</td>\n",
              "      <td>0.058778</td>\n",
              "      <td>0.058773</td>\n",
              "      <td>0.058768</td>\n",
              "      <td>0.058766</td>\n",
              "      <td>0.058765</td>\n",
              "      <td>0.058770</td>\n",
              "      <td>0.059611</td>\n",
              "      <td>0.058765</td>\n",
              "    </tr>\n",
              "  </tbody>\n",
              "</table>\n",
              "<p>100000 rows × 18 columns</p>\n",
              "</div>\n",
              "    <div class=\"colab-df-buttons\">\n",
              "\n",
              "  <div class=\"colab-df-container\">\n",
              "    <button class=\"colab-df-convert\" onclick=\"convertToInteractive('df-035296f4-6069-4f1b-97d7-b6b9b4974ce8')\"\n",
              "            title=\"Convert this dataframe to an interactive table.\"\n",
              "            style=\"display:none;\">\n",
              "\n",
              "  <svg xmlns=\"http://www.w3.org/2000/svg\" height=\"24px\" viewBox=\"0 -960 960 960\">\n",
              "    <path d=\"M120-120v-720h720v720H120Zm60-500h600v-160H180v160Zm220 220h160v-160H400v160Zm0 220h160v-160H400v160ZM180-400h160v-160H180v160Zm440 0h160v-160H620v160ZM180-180h160v-160H180v160Zm440 0h160v-160H620v160Z\"/>\n",
              "  </svg>\n",
              "    </button>\n",
              "\n",
              "  <style>\n",
              "    .colab-df-container {\n",
              "      display:flex;\n",
              "      gap: 12px;\n",
              "    }\n",
              "\n",
              "    .colab-df-convert {\n",
              "      background-color: #E8F0FE;\n",
              "      border: none;\n",
              "      border-radius: 50%;\n",
              "      cursor: pointer;\n",
              "      display: none;\n",
              "      fill: #1967D2;\n",
              "      height: 32px;\n",
              "      padding: 0 0 0 0;\n",
              "      width: 32px;\n",
              "    }\n",
              "\n",
              "    .colab-df-convert:hover {\n",
              "      background-color: #E2EBFA;\n",
              "      box-shadow: 0px 1px 2px rgba(60, 64, 67, 0.3), 0px 1px 3px 1px rgba(60, 64, 67, 0.15);\n",
              "      fill: #174EA6;\n",
              "    }\n",
              "\n",
              "    .colab-df-buttons div {\n",
              "      margin-bottom: 4px;\n",
              "    }\n",
              "\n",
              "    [theme=dark] .colab-df-convert {\n",
              "      background-color: #3B4455;\n",
              "      fill: #D2E3FC;\n",
              "    }\n",
              "\n",
              "    [theme=dark] .colab-df-convert:hover {\n",
              "      background-color: #434B5C;\n",
              "      box-shadow: 0px 1px 3px 1px rgba(0, 0, 0, 0.15);\n",
              "      filter: drop-shadow(0px 1px 2px rgba(0, 0, 0, 0.3));\n",
              "      fill: #FFFFFF;\n",
              "    }\n",
              "  </style>\n",
              "\n",
              "    <script>\n",
              "      const buttonEl =\n",
              "        document.querySelector('#df-035296f4-6069-4f1b-97d7-b6b9b4974ce8 button.colab-df-convert');\n",
              "      buttonEl.style.display =\n",
              "        google.colab.kernel.accessAllowed ? 'block' : 'none';\n",
              "\n",
              "      async function convertToInteractive(key) {\n",
              "        const element = document.querySelector('#df-035296f4-6069-4f1b-97d7-b6b9b4974ce8');\n",
              "        const dataTable =\n",
              "          await google.colab.kernel.invokeFunction('convertToInteractive',\n",
              "                                                    [key], {});\n",
              "        if (!dataTable) return;\n",
              "\n",
              "        const docLinkHtml = 'Like what you see? Visit the ' +\n",
              "          '<a target=\"_blank\" href=https://colab.research.google.com/notebooks/data_table.ipynb>data table notebook</a>'\n",
              "          + ' to learn more about interactive tables.';\n",
              "        element.innerHTML = '';\n",
              "        dataTable['output_type'] = 'display_data';\n",
              "        await google.colab.output.renderOutput(dataTable, element);\n",
              "        const docLink = document.createElement('div');\n",
              "        docLink.innerHTML = docLinkHtml;\n",
              "        element.appendChild(docLink);\n",
              "      }\n",
              "    </script>\n",
              "  </div>\n",
              "\n",
              "\n",
              "<div id=\"df-b6fbcb98-a2a2-42eb-b490-560bed0b07b4\">\n",
              "  <button class=\"colab-df-quickchart\" onclick=\"quickchart('df-b6fbcb98-a2a2-42eb-b490-560bed0b07b4')\"\n",
              "            title=\"Suggest charts\"\n",
              "            style=\"display:none;\">\n",
              "\n",
              "<svg xmlns=\"http://www.w3.org/2000/svg\" height=\"24px\"viewBox=\"0 0 24 24\"\n",
              "     width=\"24px\">\n",
              "    <g>\n",
              "        <path d=\"M19 3H5c-1.1 0-2 .9-2 2v14c0 1.1.9 2 2 2h14c1.1 0 2-.9 2-2V5c0-1.1-.9-2-2-2zM9 17H7v-7h2v7zm4 0h-2V7h2v10zm4 0h-2v-4h2v4z\"/>\n",
              "    </g>\n",
              "</svg>\n",
              "  </button>\n",
              "\n",
              "<style>\n",
              "  .colab-df-quickchart {\n",
              "      --bg-color: #E8F0FE;\n",
              "      --fill-color: #1967D2;\n",
              "      --hover-bg-color: #E2EBFA;\n",
              "      --hover-fill-color: #174EA6;\n",
              "      --disabled-fill-color: #AAA;\n",
              "      --disabled-bg-color: #DDD;\n",
              "  }\n",
              "\n",
              "  [theme=dark] .colab-df-quickchart {\n",
              "      --bg-color: #3B4455;\n",
              "      --fill-color: #D2E3FC;\n",
              "      --hover-bg-color: #434B5C;\n",
              "      --hover-fill-color: #FFFFFF;\n",
              "      --disabled-bg-color: #3B4455;\n",
              "      --disabled-fill-color: #666;\n",
              "  }\n",
              "\n",
              "  .colab-df-quickchart {\n",
              "    background-color: var(--bg-color);\n",
              "    border: none;\n",
              "    border-radius: 50%;\n",
              "    cursor: pointer;\n",
              "    display: none;\n",
              "    fill: var(--fill-color);\n",
              "    height: 32px;\n",
              "    padding: 0;\n",
              "    width: 32px;\n",
              "  }\n",
              "\n",
              "  .colab-df-quickchart:hover {\n",
              "    background-color: var(--hover-bg-color);\n",
              "    box-shadow: 0 1px 2px rgba(60, 64, 67, 0.3), 0 1px 3px 1px rgba(60, 64, 67, 0.15);\n",
              "    fill: var(--button-hover-fill-color);\n",
              "  }\n",
              "\n",
              "  .colab-df-quickchart-complete:disabled,\n",
              "  .colab-df-quickchart-complete:disabled:hover {\n",
              "    background-color: var(--disabled-bg-color);\n",
              "    fill: var(--disabled-fill-color);\n",
              "    box-shadow: none;\n",
              "  }\n",
              "\n",
              "  .colab-df-spinner {\n",
              "    border: 2px solid var(--fill-color);\n",
              "    border-color: transparent;\n",
              "    border-bottom-color: var(--fill-color);\n",
              "    animation:\n",
              "      spin 1s steps(1) infinite;\n",
              "  }\n",
              "\n",
              "  @keyframes spin {\n",
              "    0% {\n",
              "      border-color: transparent;\n",
              "      border-bottom-color: var(--fill-color);\n",
              "      border-left-color: var(--fill-color);\n",
              "    }\n",
              "    20% {\n",
              "      border-color: transparent;\n",
              "      border-left-color: var(--fill-color);\n",
              "      border-top-color: var(--fill-color);\n",
              "    }\n",
              "    30% {\n",
              "      border-color: transparent;\n",
              "      border-left-color: var(--fill-color);\n",
              "      border-top-color: var(--fill-color);\n",
              "      border-right-color: var(--fill-color);\n",
              "    }\n",
              "    40% {\n",
              "      border-color: transparent;\n",
              "      border-right-color: var(--fill-color);\n",
              "      border-top-color: var(--fill-color);\n",
              "    }\n",
              "    60% {\n",
              "      border-color: transparent;\n",
              "      border-right-color: var(--fill-color);\n",
              "    }\n",
              "    80% {\n",
              "      border-color: transparent;\n",
              "      border-right-color: var(--fill-color);\n",
              "      border-bottom-color: var(--fill-color);\n",
              "    }\n",
              "    90% {\n",
              "      border-color: transparent;\n",
              "      border-bottom-color: var(--fill-color);\n",
              "    }\n",
              "  }\n",
              "</style>\n",
              "\n",
              "  <script>\n",
              "    async function quickchart(key) {\n",
              "      const quickchartButtonEl =\n",
              "        document.querySelector('#' + key + ' button');\n",
              "      quickchartButtonEl.disabled = true;  // To prevent multiple clicks.\n",
              "      quickchartButtonEl.classList.add('colab-df-spinner');\n",
              "      try {\n",
              "        const charts = await google.colab.kernel.invokeFunction(\n",
              "            'suggestCharts', [key], {});\n",
              "      } catch (error) {\n",
              "        console.error('Error during call to suggestCharts:', error);\n",
              "      }\n",
              "      quickchartButtonEl.classList.remove('colab-df-spinner');\n",
              "      quickchartButtonEl.classList.add('colab-df-quickchart-complete');\n",
              "    }\n",
              "    (() => {\n",
              "      let quickchartButtonEl =\n",
              "        document.querySelector('#df-b6fbcb98-a2a2-42eb-b490-560bed0b07b4 button');\n",
              "      quickchartButtonEl.style.display =\n",
              "        google.colab.kernel.accessAllowed ? 'block' : 'none';\n",
              "    })();\n",
              "  </script>\n",
              "</div>\n",
              "    </div>\n",
              "  </div>\n"
            ],
            "application/vnd.google.colaboratory.intrinsic+json": {
              "type": "dataframe",
              "variable_name": "test_pred_proba_df",
              "summary": "{\n  \"name\": \"test_pred_proba_df\",\n  \"rows\": 100000,\n  \"fields\": [\n    {\n      \"column\": \"id\",\n      \"properties\": {\n        \"dtype\": \"number\",\n        \"std\": 28867,\n        \"min\": 200000,\n        \"max\": 299999,\n        \"num_unique_values\": 100000,\n        \"samples\": [\n          275721,\n          280184,\n          219864\n        ],\n        \"semantic_type\": \"\",\n        \"description\": \"\"\n      }\n    },\n    {\n      \"column\": \"{other}\",\n      \"properties\": {\n        \"dtype\": \"float32\",\n        \"num_unique_values\": 34196,\n        \"samples\": [\n          0.05900776386260986,\n          0.058817263692617416,\n          0.058870378881692886\n        ],\n        \"semantic_type\": \"\",\n        \"description\": \"\"\n      }\n    },\n    {\n      \"column\": \"{}\",\n      \"properties\": {\n        \"dtype\": \"float32\",\n        \"num_unique_values\": 47186,\n        \"samples\": [\n          0.05880392715334892,\n          0.05877946317195892,\n          0.058847974985837936\n        ],\n        \"semantic_type\": \"\",\n        \"description\": \"\"\n      }\n    },\n    {\n      \"column\": \"{\\u03b1, \\u03b2}\",\n      \"properties\": {\n        \"dtype\": \"float32\",\n        \"num_unique_values\": 15763,\n        \"samples\": [\n          0.05878342688083649,\n          0.05878722295165062,\n          0.058769743889570236\n        ],\n        \"semantic_type\": \"\",\n        \"description\": \"\"\n      }\n    },\n    {\n      \"column\": \"{\\u03b1, \\u03b3}\",\n      \"properties\": {\n        \"dtype\": \"float32\",\n        \"num_unique_values\": 29484,\n        \"samples\": [\n          0.05886511877179146,\n          0.058857470750808716,\n          0.058785874396562576\n        ],\n        \"semantic_type\": \"\",\n        \"description\": \"\"\n      }\n    },\n    {\n      \"column\": \"{\\u03b1, \\u03b4}\",\n      \"properties\": {\n        \"dtype\": \"float32\",\n        \"num_unique_values\": 11149,\n        \"samples\": [\n          0.058763738721609116,\n          0.05876331031322479,\n          0.05904027447104454\n        ],\n        \"semantic_type\": \"\",\n        \"description\": \"\"\n      }\n    },\n    {\n      \"column\": \"{\\u03b1, \\u03b5, \\u03b7}\",\n      \"properties\": {\n        \"dtype\": \"float32\",\n        \"num_unique_values\": 9833,\n        \"samples\": [\n          0.058758169412612915,\n          0.058784324675798416,\n          0.05878203734755516\n        ],\n        \"semantic_type\": \"\",\n        \"description\": \"\"\n      }\n    },\n    {\n      \"column\": \"{\\u03b1, \\u03b5, \\u03b8}\",\n      \"properties\": {\n        \"dtype\": \"float32\",\n        \"num_unique_values\": 9348,\n        \"samples\": [\n          0.058772165328264236,\n          0.05877867713570595,\n          0.058801546692848206\n        ],\n        \"semantic_type\": \"\",\n        \"description\": \"\"\n      }\n    },\n    {\n      \"column\": \"{\\u03b1, \\u03b5, \\u03c8}\",\n      \"properties\": {\n        \"dtype\": \"float32\",\n        \"num_unique_values\": 8585,\n        \"samples\": [\n          0.05879098176956177,\n          0.05877410247921944,\n          0.05876675620675087\n        ],\n        \"semantic_type\": \"\",\n        \"description\": \"\"\n      }\n    },\n    {\n      \"column\": \"{\\u03b1, \\u03b5}\",\n      \"properties\": {\n        \"dtype\": \"float32\",\n        \"num_unique_values\": 11183,\n        \"samples\": [\n          0.05875323712825775,\n          0.058759499341249466,\n          0.05877523124217987\n        ],\n        \"semantic_type\": \"\",\n        \"description\": \"\"\n      }\n    },\n    {\n      \"column\": \"{\\u03b1, \\u03b7}\",\n      \"properties\": {\n        \"dtype\": \"float32\",\n        \"num_unique_values\": 23924,\n        \"samples\": [\n          0.05948591232299805,\n          0.05919047072529793,\n          0.058786775916814804\n        ],\n        \"semantic_type\": \"\",\n        \"description\": \"\"\n      }\n    },\n    {\n      \"column\": \"{\\u03b1, \\u03b8}\",\n      \"properties\": {\n        \"dtype\": \"float32\",\n        \"num_unique_values\": 11198,\n        \"samples\": [\n          0.05875644460320473,\n          0.05877253785729408,\n          0.0587647445499897\n        ],\n        \"semantic_type\": \"\",\n        \"description\": \"\"\n      }\n    },\n    {\n      \"column\": \"{\\u03b1, \\u03bb}\",\n      \"properties\": {\n        \"dtype\": \"float32\",\n        \"num_unique_values\": 8833,\n        \"samples\": [\n          0.058792367577552795,\n          0.058782562613487244,\n          0.05876569822430611\n        ],\n        \"semantic_type\": \"\",\n        \"description\": \"\"\n      }\n    },\n    {\n      \"column\": \"{\\u03b1, \\u03bc}\",\n      \"properties\": {\n        \"dtype\": \"float32\",\n        \"num_unique_values\": 10453,\n        \"samples\": [\n          0.058800745755434036,\n          0.05877957120537758,\n          0.05875346064567566\n        ],\n        \"semantic_type\": \"\",\n        \"description\": \"\"\n      }\n    },\n    {\n      \"column\": \"{\\u03b1, \\u03c0}\",\n      \"properties\": {\n        \"dtype\": \"float32\",\n        \"num_unique_values\": 8463,\n        \"samples\": [\n          0.05879242345690727,\n          0.0587821863591671,\n          0.05876356363296509\n        ],\n        \"semantic_type\": \"\",\n        \"description\": \"\"\n      }\n    },\n    {\n      \"column\": \"{\\u03b1, \\u03c8}\",\n      \"properties\": {\n        \"dtype\": \"float32\",\n        \"num_unique_values\": 9646,\n        \"samples\": [\n          0.0587635338306427,\n          0.058778274804353714,\n          0.058779146522283554\n        ],\n        \"semantic_type\": \"\",\n        \"description\": \"\"\n      }\n    },\n    {\n      \"column\": \"{\\u03b1}\",\n      \"properties\": {\n        \"dtype\": \"float32\",\n        \"num_unique_values\": 68204,\n        \"samples\": [\n          0.058886170387268066,\n          0.059573765844106674,\n          0.059251461178064346\n        ],\n        \"semantic_type\": \"\",\n        \"description\": \"\"\n      }\n    },\n    {\n      \"column\": \"{\\u03bb}\",\n      \"properties\": {\n        \"dtype\": \"float32\",\n        \"num_unique_values\": 8617,\n        \"samples\": [\n          0.058759596198797226,\n          0.05877656117081642,\n          0.05878238007426262\n        ],\n        \"semantic_type\": \"\",\n        \"description\": \"\"\n      }\n    }\n  ]\n}"
            }
          },
          "metadata": {},
          "execution_count": 60
        }
      ]
    },
    {
      "cell_type": "markdown",
      "source": [
        "##LGB\n"
      ],
      "metadata": {
        "id": "c_PSyVGuPv_X"
      }
    },
    {
      "cell_type": "code",
      "source": [
        "!mkdir -p /etc/OpenCL/vendors && echo \"libnvidia-opencl.so.1\" > /etc/OpenCL/vendors/nvidia.icd"
      ],
      "metadata": {
        "id": "qeHlO3AOTAw3"
      },
      "execution_count": null,
      "outputs": []
    },
    {
      "cell_type": "code",
      "source": [
        "!pip install lightgbm"
      ],
      "metadata": {
        "colab": {
          "base_uri": "https://localhost:8080/"
        },
        "id": "4OsLLWXqP-RN",
        "outputId": "c10037bf-7e23-4bd1-de15-b32cf03e6fde"
      },
      "execution_count": null,
      "outputs": [
        {
          "output_type": "stream",
          "name": "stdout",
          "text": [
            "Collecting lightgbm\n",
            "  Using cached lightgbm-4.3.0-py3-none-manylinux_2_28_x86_64.whl (3.1 MB)\n",
            "Requirement already satisfied: numpy in /usr/local/lib/python3.10/dist-packages (from lightgbm) (1.25.2)\n",
            "Requirement already satisfied: scipy in /usr/local/lib/python3.10/dist-packages (from lightgbm) (1.11.4)\n",
            "Installing collected packages: lightgbm\n",
            "Successfully installed lightgbm-4.3.0\n"
          ]
        }
      ]
    },
    {
      "cell_type": "code",
      "source": [
        "data, target = encoded_train.copy(), encoded_y.copy()\n",
        "train_x, valid_x, train_y, valid_y = train_test_split(data, target, test_size=0.25, stratify=target)\n",
        "dtrain = lgb.Dataset(train_x, label=train_y)\n",
        "lgvalid = lgb.Dataset(valid_x, valid_y)\n",
        "\n",
        "param = {\n",
        "     \"objective\": \"multiclass\",\n",
        "      \"num_class\" : 17,\n",
        "}\n",
        "gbm = lgb.train(param, dtrain, valid_sets=[lgvalid])"
      ],
      "metadata": {
        "colab": {
          "base_uri": "https://localhost:8080/"
        },
        "id": "qxG-q9NkUe6j",
        "outputId": "bb07d4a3-ede1-4a9a-c72f-5be3d23f7afa"
      },
      "execution_count": null,
      "outputs": [
        {
          "output_type": "stream",
          "name": "stdout",
          "text": [
            "[LightGBM] [Info] Auto-choosing row-wise multi-threading, the overhead of testing was 0.034245 seconds.\n",
            "You can set `force_row_wise=true` to remove the overhead.\n",
            "And if memory is not enough, you can set `force_col_wise=true`.\n",
            "[LightGBM] [Info] Total Bins 5449\n",
            "[LightGBM] [Info] Number of data points in the train set: 450000, number of used features: 30\n",
            "[LightGBM] [Info] Start training from score -2.542592\n",
            "[LightGBM] [Info] Start training from score -1.589919\n",
            "[LightGBM] [Info] Start training from score -3.980778\n",
            "[LightGBM] [Info] Start training from score -2.856821\n",
            "[LightGBM] [Info] Start training from score -4.991160\n",
            "[LightGBM] [Info] Start training from score -5.882112\n",
            "[LightGBM] [Info] Start training from score -6.278850\n",
            "[LightGBM] [Info] Start training from score -7.414884\n",
            "[LightGBM] [Info] Start training from score -4.701192\n",
            "[LightGBM] [Info] Start training from score -2.687986\n",
            "[LightGBM] [Info] Start training from score -4.523488\n",
            "[LightGBM] [Info] Start training from score -6.532368\n",
            "[LightGBM] [Info] Start training from score -5.644256\n",
            "[LightGBM] [Info] Start training from score -10.377946\n",
            "[LightGBM] [Info] Start training from score -5.322155\n",
            "[LightGBM] [Info] Start training from score -0.632776\n",
            "[LightGBM] [Info] Start training from score -8.363043\n"
          ]
        }
      ]
    },
    {
      "cell_type": "code",
      "source": [
        "gbm.predict(valid_x)"
      ],
      "metadata": {
        "colab": {
          "base_uri": "https://localhost:8080/"
        },
        "id": "zlnOIpf_WfIE",
        "outputId": "63413ed6-4fc0-4589-eded-2a5b9779b5e2"
      },
      "execution_count": null,
      "outputs": [
        {
          "output_type": "execute_result",
          "data": {
            "text/plain": [
              "array([[1.95490177e-02, 2.23705943e-01, 3.33535089e-03, ...,\n",
              "        9.37302263e-04, 7.05656077e-01, 0.00000000e+00],\n",
              "       [9.37836347e-03, 8.61498743e-01, 1.32324629e-03, ...,\n",
              "        8.42274181e-04, 1.16477280e-01, 0.00000000e+00],\n",
              "       [1.54868080e-02, 1.89459440e-02, 8.65826241e-01, ...,\n",
              "        1.69223998e-04, 8.78645509e-02, 0.00000000e+00],\n",
              "       ...,\n",
              "       [5.97297796e-03, 1.67126256e-02, 4.41358552e-03, ...,\n",
              "        4.92407443e-04, 9.53527120e-01, 0.00000000e+00],\n",
              "       [1.53356850e-02, 4.51630772e-01, 3.27439448e-03, ...,\n",
              "        9.82106133e-04, 4.99920354e-01, 0.00000000e+00],\n",
              "       [3.09590407e-02, 1.36702799e-01, 1.76476685e-02, ...,\n",
              "        9.17369679e-04, 7.65191513e-01, 0.00000000e+00]])"
            ]
          },
          "metadata": {},
          "execution_count": 45
        }
      ]
    },
    {
      "cell_type": "code",
      "source": [
        "import sklearn\n",
        "import optuna\n",
        "import lightgbm as lgb\n",
        "\n",
        "def objective(trial):\n",
        "    data, target = encoded_train.copy(), encoded_y.copy()\n",
        "    train_x, valid_x, train_y, valid_y = train_test_split(data, target, test_size=0.25, stratify=target)\n",
        "    dtrain = lgb.Dataset(train_x, label=train_y)\n",
        "    # dvalid = lgb.Dataset(valid_x, label=valid_y)\n",
        "\n",
        "    param = {\n",
        "      \"objective\": \"multiclass\",\n",
        "      \"verbosity\": 0,\n",
        "      \"boosting_type\": \"gbdt\",\n",
        "      \"lambda_l1\": trial.suggest_float(\"lambda_l1\", 1e-8, 10.0, log=True),\n",
        "      \"lambda_l2\": trial.suggest_float(\"lambda_l2\", 1e-8, 10.0, log=True),\n",
        "      \"num_leaves\": trial.suggest_int(\"num_leaves\", 2, 256),\n",
        "      \"feature_fraction\": trial.suggest_float(\"feature_fraction\", 0.4, 1.0),\n",
        "      \"bagging_fraction\": trial.suggest_float(\"bagging_fraction\", 0.4, 1.0),\n",
        "      \"bagging_freq\": trial.suggest_int(\"bagging_freq\", 1, 7),\n",
        "      \"min_child_samples\": trial.suggest_int(\"min_child_samples\", 5, 100),\n",
        "      \"num_class\" : 17,\n",
        "    }\n",
        "\n",
        "    gbm = lgb.train(param, dtrain)\n",
        "    print('huh')\n",
        "    preds = gbm.predict(valid_x)\n",
        "    pred_labels = np.rint(preds)\n",
        "    accuracy = sklearn.metrics.accuracy_score(valid_y, pred_labels)\n",
        "    return accuracy\n",
        "\n",
        "study = optuna.create_study(direction=\"maximize\")\n",
        "study.optimize(objective, n_trials=20)\n",
        "\n",
        "print(\"Number of finished trials: {}\".format(len(study.trials)))\n",
        "\n",
        "print(\"Best trial:\")\n",
        "trial = study.best_trial\n",
        "\n",
        "print(\"  Value: {}\".format(trial.value))\n",
        "\n",
        "print(\"  Params: \")\n",
        "for key, value in trial.params.items():\n",
        "    print(\"    {}: {}\".format(key, value))"
      ],
      "metadata": {
        "colab": {
          "base_uri": "https://localhost:8080/",
          "height": 383
        },
        "id": "DvOS2cO8QnGl",
        "outputId": "2217819e-2dd7-44b5-a72b-bcc78ff680d6"
      },
      "execution_count": 1,
      "outputs": [
        {
          "output_type": "error",
          "ename": "ModuleNotFoundError",
          "evalue": "No module named 'optuna'",
          "traceback": [
            "\u001b[0;31m---------------------------------------------------------------------------\u001b[0m",
            "\u001b[0;31mModuleNotFoundError\u001b[0m                       Traceback (most recent call last)",
            "\u001b[0;32m<ipython-input-1-8d9d86e5656c>\u001b[0m in \u001b[0;36m<cell line: 2>\u001b[0;34m()\u001b[0m\n\u001b[1;32m      1\u001b[0m \u001b[0;32mimport\u001b[0m \u001b[0msklearn\u001b[0m\u001b[0;34m\u001b[0m\u001b[0;34m\u001b[0m\u001b[0m\n\u001b[0;32m----> 2\u001b[0;31m \u001b[0;32mimport\u001b[0m \u001b[0moptuna\u001b[0m\u001b[0;34m\u001b[0m\u001b[0;34m\u001b[0m\u001b[0m\n\u001b[0m\u001b[1;32m      3\u001b[0m \u001b[0;32mimport\u001b[0m \u001b[0mlightgbm\u001b[0m \u001b[0;32mas\u001b[0m \u001b[0mlgb\u001b[0m\u001b[0;34m\u001b[0m\u001b[0;34m\u001b[0m\u001b[0m\n\u001b[1;32m      4\u001b[0m \u001b[0;34m\u001b[0m\u001b[0m\n\u001b[1;32m      5\u001b[0m \u001b[0;32mdef\u001b[0m \u001b[0mobjective\u001b[0m\u001b[0;34m(\u001b[0m\u001b[0mtrial\u001b[0m\u001b[0;34m)\u001b[0m\u001b[0;34m:\u001b[0m\u001b[0;34m\u001b[0m\u001b[0;34m\u001b[0m\u001b[0m\n",
            "\u001b[0;31mModuleNotFoundError\u001b[0m: No module named 'optuna'",
            "",
            "\u001b[0;31m---------------------------------------------------------------------------\u001b[0;32m\nNOTE: If your import is failing due to a missing package, you can\nmanually install dependencies using either !pip or !apt.\n\nTo view examples of installing some common dependencies, click the\n\"Open Examples\" button below.\n\u001b[0;31m---------------------------------------------------------------------------\u001b[0m\n"
          ],
          "errorDetails": {
            "actions": [
              {
                "action": "open_url",
                "actionText": "Open Examples",
                "url": "/notebooks/snippets/importing_libraries.ipynb"
              }
            ]
          }
        }
      ]
    },
    {
      "cell_type": "code",
      "source": [
        "from sklearn.model_selection import KFold\n",
        "import lightgbm\n",
        "\n",
        "def lgb_train(X, y, test_X, params):\n",
        "    kf = KFold(n_splits=3, shuffle=True, random_state=2017)\n",
        "    test_pred = []\n",
        "    train_pred = []\n",
        "    val_scores = []\n",
        "    for dev_index, val_index in kf.split(train_df):\n",
        "        train_x, valid_x = X.loc[dev_index,:], X.loc[val_index,:]\n",
        "        train_y, valid_y = y[dev_index], y[val_index]\n",
        "\n",
        "        lgtrain = lightgbm.Dataset(train_x, train_y, categorical_features=list(cat_cols))\n",
        "        lgvalid = lightgbm.Dataset(valid_x, valid_y, categorical_features=list(cat_cols))\n",
        "\n",
        "\n",
        "        model = lightgbm.train(params, lgtrain, 2000, valid_sets=[lgvalid], early_stopping_rounds=100, verbose_eval=100)\n",
        "        pred_test_iter = model.predict(test_X, num_iteration=model.best_iteration)\n",
        "        pred_train_iter = model.predict(X, num_iteration=model.best_iteration)\n",
        "        pred_val = model.predict(valid_x)\n",
        "        # xgb_model = xgb.train(params, xgb_train_data,\n",
        "                        #   num_boost_round=2000,\n",
        "                        #   evals= [(xgb_train_data, 'train'), (xgb_val_data, 'valid')],\n",
        "                        #   early_stopping_rounds=100,\n",
        "                        #   verbose_eval=500\n",
        "                        #  )\n",
        "\n",
        "        score = weighted_roc_auc(valid_y, pred_val, sorted(list(np.unique(train_y))), weights_dict)\n",
        "        val_scores.append(score)\n",
        "        test_pred.append(pred_test_iter)\n",
        "        train_pred.append(pred_train_iter)\n",
        "    return val_scores, test_pred, train_pred"
      ],
      "metadata": {
        "id": "EIpdOIYCPw3g"
      },
      "execution_count": null,
      "outputs": []
    },
    {
      "cell_type": "code",
      "source": [
        "scores, test_pred_lgb, train_pred_lgb = lgb_train(X, y, )"
      ],
      "metadata": {
        "id": "g4jWe6WOWn20"
      },
      "execution_count": null,
      "outputs": []
    }
  ]
}